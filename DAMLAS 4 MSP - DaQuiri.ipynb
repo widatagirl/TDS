{
 "cells": [
  {
   "cell_type": "markdown",
   "metadata": {},
   "source": [
    "![DaQuiri Logo](daquirilogo.png)"
   ]
  },
  {
   "cell_type": "markdown",
   "metadata": {},
   "source": [
    "DAMLAS 4 - MSP                                                                                                                 \n",
    "Team: Rahul Biswas, Vicki Seely & Scott Zuehlke                                                                                           \n",
    "*&copy; 2016*\n",
    "\n",
    "__Executive Summary__\n",
    "\n",
    "Without accurate and effective Data Quality processes, the foundation of any analysis has the potential to be compromised. As the volume and sources of data explode, the role of automated Data Quality becomes even more important. While obvious outliers are easy to detect, flag and remediate, some inaccurate data points may fall within established tolerances. Due to the complexity of the data it’s challenging to automate the process, often requiring manual effort to complete the checks.\n",
    "\n",
    "[about 125 words to go]\n",
    "\n",
    "This notebook uses Python, DataFrames, and Oozie workflows to build a process to....\n",
    "\n",
    "The notebook is organized as follows:\n",
    "\n",
    "1.\t**Introduction** \n",
    "2.\t**Data**\n",
    "3.\t**ETL**\n",
    "4.\t**Feature Engineering**\n",
    "5.\t**Modeling, Evaluation, and Tuning**\n",
    "6.\t**Results (and systems used)**\n",
    "7.\t**Next Steps**\n",
    "8.\t**Resources/References**\n",
    "9.\t**Appendix**\n",
    "\n"
   ]
  },
  {
   "cell_type": "markdown",
   "metadata": {},
   "source": [
    "## Table of Contents <a name=\"TOC\"></a> \n",
    "\n",
    "1.  [Introduction](#1)\n",
    "2.  [Data](#2)\n",
    "3.  [ETL](#3)\n",
    "4.  [Feature Engineering](#4)\n",
    "5.  [Modeling, Evaluation & Tuning](#5)\n",
    "6.  [Results / Systems Used](#6)\n",
    "7.  [Next Steps](#7)\n",
    "8.  [Resources / References](#8)\n",
    "9.  [Appendix](#9)"
   ]
  },
  {
   "cell_type": "markdown",
   "metadata": {},
   "source": [
    "## 1.  Introduction <a name=\"1\"></a>\n",
    "[Back to Table of Contents](#TOC)\n",
    "\n",
    "[Blurb about Scott's initial model / why new model needed / changes to process]\n",
    "\n",
    "DaQuiri’s goal is to minimize the need for manual intervention in the Data Quality process by leveraging machine learning capabilities on BigRed. There is an existing implementation of DaQuiri used to evaluate e-commerce data but it is not scalable to Hadoop. The scalable solution will evaluate production data at regular intervals, leverage a variety of regression approaches and rely on an automated model evaluator to select a champion model. New data records will be evaluated against this model to determine whether it is within an acceptable prediction interval. Effectiveness of this process will be measured through the number of false positives and overall detection accuracy. Another consideration will be processing time within an acceptable SLA."
   ]
  },
  {
   "cell_type": "markdown",
   "metadata": {},
   "source": [
    "## 2.  Data <a name=\"2\"></a>\n",
    "[Back to Table of Contents](#TOC)"
   ]
  },
  {
   "cell_type": "code",
   "execution_count": null,
   "metadata": {
    "collapsed": true
   },
   "outputs": [],
   "source": []
  },
  {
   "cell_type": "markdown",
   "metadata": {},
   "source": [
    "## 3.  ETL <a name=\"3\"></a>\n",
    "[Back to Table of Contents](#TOC)"
   ]
  },
  {
   "cell_type": "code",
   "execution_count": null,
   "metadata": {
    "collapsed": true
   },
   "outputs": [],
   "source": []
  },
  {
   "cell_type": "markdown",
   "metadata": {},
   "source": [
    "## 4.  Feature Engineering <a name=\"4\"></a>\n",
    "[Back to Table of Contents](#TOC)"
   ]
  },
  {
   "cell_type": "code",
   "execution_count": null,
   "metadata": {
    "collapsed": true
   },
   "outputs": [],
   "source": []
  },
  {
   "cell_type": "markdown",
   "metadata": {},
   "source": [
    "## 5.  Modeling, Evaluation & Tuning <a name=\"5\"></a>\n",
    "[Back to Table of Contents](#TOC)"
   ]
  },
  {
   "cell_type": "code",
   "execution_count": null,
   "metadata": {
    "collapsed": true
   },
   "outputs": [],
   "source": []
  },
  {
   "cell_type": "markdown",
   "metadata": {},
   "source": [
    "## 6.  Results / Systems Used <a name=\"6\"></a>\n",
    "[Back to Table of Contents](#TOC)"
   ]
  },
  {
   "cell_type": "code",
   "execution_count": null,
   "metadata": {
    "collapsed": true
   },
   "outputs": [],
   "source": []
  },
  {
   "cell_type": "markdown",
   "metadata": {},
   "source": [
    "## 7.  Next Steps <a name=\"7\"></a>\n",
    "[Back to Table of Contents](#TOC)"
   ]
  },
  {
   "cell_type": "code",
   "execution_count": null,
   "metadata": {
    "collapsed": true
   },
   "outputs": [],
   "source": []
  },
  {
   "cell_type": "markdown",
   "metadata": {},
   "source": [
    "## 8.  Resources / References <a name=\"8\"></a>\n",
    "[Back to Table of Contents](#TOC)"
   ]
  },
  {
   "cell_type": "code",
   "execution_count": null,
   "metadata": {
    "collapsed": true
   },
   "outputs": [],
   "source": []
  },
  {
   "cell_type": "markdown",
   "metadata": {},
   "source": [
    "## 9.  Appendix <a name=\"9\"></a>\n",
    "[Back to Table of Contents](#TOC)"
   ]
  },
  {
   "cell_type": "code",
   "execution_count": null,
   "metadata": {
    "collapsed": true
   },
   "outputs": [],
   "source": []
  }
 ],
 "metadata": {
  "celltoolbar": "Raw Cell Format",
  "kernelspec": {
   "display_name": "Python [py27]",
   "language": "python",
   "name": "Python [py27]"
  },
  "language_info": {
   "codemirror_mode": {
    "name": "ipython",
    "version": 2
   },
   "file_extension": ".py",
   "mimetype": "text/x-python",
   "name": "python",
   "nbconvert_exporter": "python",
   "pygments_lexer": "ipython2",
   "version": "2.7.12"
  }
 },
 "nbformat": 4,
 "nbformat_minor": 0
}
