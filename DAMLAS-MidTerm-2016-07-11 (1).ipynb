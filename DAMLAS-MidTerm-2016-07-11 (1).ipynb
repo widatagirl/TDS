{
 "cells": [
  {
   "cell_type": "markdown",
   "metadata": {},
   "source": [
    "# DAMLAS MidTerm Exam  \n",
    "\n",
    "11:00AM - 1:00PM(CT)\n",
    "July 11, 2016   \n",
    "Midterm\n",
    "\n",
    "\n",
    "Data Analytics and Machine Learning at Scale\n",
    "\n",
    "Target, Minneapolis\n",
    "\n",
    "### Please insert your contact information here\n",
    "Vicki Seely  \n",
    "vicki.seely@target.com   "
   ]
  },
  {
   "cell_type": "code",
   "execution_count": null,
   "metadata": {
    "collapsed": false
   },
   "outputs": [],
   "source": [
    "import numpy as np\n",
    "from __future__ import division\n",
    "\n",
    "%reload_ext autoreload\n",
    "%autoreload 2\n"
   ]
  },
  {
   "cell_type": "markdown",
   "metadata": {},
   "source": [
    "# Exam Instructions\n",
    "\n",
    "1. : Please insert Name and Email address in the first cell of this notebook\n",
    "2. : Please acknowledge receipt of exam by sending a quick reply to exam email\n",
    "3. : Review the submission form first to scope it out (it will take a 5-10 minutes to input your \n",
    "   answers and other information into this form): \n",
    "\n",
    "    + [Exam Submission form](http://goo.gl/forms/iN4XIXQyiH1iAdyD3) \n",
    "\n",
    "4. : Please keep all your work and responses in ONE (1) notebook only (and submit via the submission form)\n",
    "5. : Please make sure that the NBViewer link for your Submission notebook works \n",
    "6. : Please submit your solutions and notebook via the following form:\n",
    "\n",
    "     + [Exam Submission form](http://goo.gl/forms/iN4XIXQyiH1iAdyD3)\n",
    "\n",
    "7. : For the midterm you will need access to MrJob and Jupyter on your local machines or on AWS to complete some of the questions (like fill in the code to do X).\n",
    "8. : As for question types:\n",
    "    + Knowledge test Programmatic/doodle (take photos; embed the photos in your notebook) \n",
    "    + All programmatic questions can be run locally on your laptop (using MrJob only) or on the cluster\n",
    "\n",
    "9. : This is an open book exam meaning you can consult webpages and textbooks, class notes, slides etc. but you can not each other or any other person/group. Please complete this exam by yourself within the time limit. "
   ]
  },
  {
   "cell_type": "markdown",
   "metadata": {},
   "source": [
    "# Exam questions begins here"
   ]
  },
  {
   "cell_type": "markdown",
   "metadata": {},
   "source": [
    "===Map-Reduce==="
   ]
  },
  {
   "cell_type": "markdown",
   "metadata": {},
   "source": [
    "### MT1. Which of the following statememts about map-reduce are true? Check all that apply.   \n",
    "\n",
    "(a) If you only have 1 computer with 1 computing core, then map-reduce is unlikely to help   \n",
    "(b) If we run map-reduce using N computers, then we will always get at least an N-Fold speedup compared to using 1 computer   \n",
    "(c) Because of network latency and other overhead associated with map-reduce, if we run map-reduce using N    computers, then we will get less than N-Fold speedup compared to using 1 computer   \n",
    "(d) When using map-reduce with gradient descent, we usually use a single machine that accumulates the gradients from each of the map-reduce machines, in order to compute the paramter update for the iterion   "
   ]
  },
  {
   "cell_type": "markdown",
   "metadata": {},
   "source": [
    "#####  MT1. a, b, c, d  # this is just a demo response\n",
    "<span style=\"font-weight:bold; color:green;\">__ANSWER__ This is Not necessary but it is always good way to cross check your logic. \n",
    "If you don't need the output to be sorted or aggregated, then there is no need for a reduce step. In other words, if all you're doing is applying some function to all data points and nothing else, then the reduce step is not needed.</SPAN>"
   ]
  },
  {
   "cell_type": "markdown",
   "metadata": {},
   "source": [
    "===Order inversion===\n",
    "\n",
    "### MT2. Suppose you wish to write a MapReduce job that creates  normalized word co-occurrence data form a large input text. \n",
    "To ensure that all (potentially many) reducers\n",
    "receive appropriate normalization factors (denominators)\n",
    "in the correct order in their input streams\n",
    "(so as to minimize memory overhead), \n",
    "the mapper should emit according to which pattern:   \n",
    "\n",
    "(a) emit (*,word) count   \n",
    "(b) There is no need to use  order inversion here   \n",
    "(c) emit (word,*) count   \n",
    "(d) None of the above   "
   ]
  },
  {
   "cell_type": "code",
   "execution_count": null,
   "metadata": {
    "collapsed": true
   },
   "outputs": [],
   "source": [
    "MT2. a - or you could just have 2 MRSteps with a second mapper-reducer"
   ]
  },
  {
   "cell_type": "markdown",
   "metadata": {},
   "source": [
    "===Map-Reduce===\n",
    "\n",
    "### MT3. What is the input to the Reduce function in MRJob? Select the most correct choice.  \n",
    "\n",
    "   \n",
    "(a) An arbitrarily sized list of key/value pairs.    \n",
    "(b) One key and a list of some values associated with that key  \n",
    "(c) One key and a list of all values associated with that key.   \n",
    "(d) None of the above   "
   ]
  },
  {
   "cell_type": "code",
   "execution_count": null,
   "metadata": {
    "collapsed": true
   },
   "outputs": [],
   "source": [
    "MT3. c"
   ]
  },
  {
   "cell_type": "markdown",
   "metadata": {},
   "source": [
    "===Bayesian document classification===   \n",
    "  \n",
    "### MT4. When building a Bayesian document classifier, Laplace smoothing serves what purpose?   \n",
    "\n",
    "(a) It allows you to use your training data as your validation data.   \n",
    "(b) It prevents zero-products in the posterior distribution.  \n",
    "(c) It accounts for words that were missed by regular expressions.    \n",
    "(d) None of the above   "
   ]
  },
  {
   "cell_type": "code",
   "execution_count": null,
   "metadata": {
    "collapsed": true
   },
   "outputs": [],
   "source": [
    "MT4. c"
   ]
  },
  {
   "cell_type": "markdown",
   "metadata": {},
   "source": [
    "===Bias-variance tradeoff===   \n",
    "\n",
    "### MT5. By increasing the complexity of a model regressed on some samples of data,   it is likely that the ensemble will exhibit which of the following?   \n",
    "\n",
    "(a) Increased variance and bias   \n",
    "(b) Increased variance and decreased bias   \n",
    "(c) Decreased variance and bias   \n",
    "(d) Decreased variance and increased bias   "
   ]
  },
  {
   "cell_type": "code",
   "execution_count": null,
   "metadata": {
    "collapsed": true
   },
   "outputs": [],
   "source": [
    "MT5. d"
   ]
  },
  {
   "cell_type": "markdown",
   "metadata": {},
   "source": [
    "===Combiners===\n",
    "  \n",
    "### MT6. Combiners can be integral to the successful utilization of the Hadoop shuffle.  \n",
    "This utility is as a result of (select the most correct answer only)  \n",
    "\n",
    "(a) minimization of reducer workload \n",
    "(b) both (a) and (c)   \n",
    "(c) minimization of network traffic    \n",
    "(d) none of the above  "
   ]
  },
  {
   "cell_type": "code",
   "execution_count": null,
   "metadata": {
    "collapsed": true
   },
   "outputs": [],
   "source": [
    "MT6. b"
   ]
  },
  {
   "cell_type": "markdown",
   "metadata": {},
   "source": [
    "## Pairwise similarity using K-L divergence\n",
    "\n",
    "In probability theory and information theory, the Kullback–Leibler divergence \n",
    "(also information divergence, information gain, relative entropy, KLIC, or KL divergence) \n",
    "is a non-symmetric measure of the difference between two probability distributions P and Q. \n",
    "Specifically, the Kullback–Leibler divergence of Q from P, denoted DKL(P\\‖Q), \n",
    "is a measure of the information lost when Q is used to approximate P:\n",
    "\n",
    "For discrete probability distributions P and Q, \n",
    "the Kullback–Leibler divergence of Q from P is defined to be\n",
    "\n",
    "    + KLDistance(P, Q) = Sum_over_item_i (P(i) log (P(i) / Q(i))      \n",
    "\n",
    "In the extreme cases, the KL Divergence is 1 when P and Q are maximally different\n",
    "and is 0 when the two distributions are exactly the same (follow the same distribution).\n",
    "\n",
    "For more information on K-L Divergence see:\n",
    "\n",
    "    + [K-L Divergence](https://en.wikipedia.org/wiki/Kullback%E2%80%93Leibler_divergence)\n",
    "\n",
    "For the next three question we will use an MRjob class for calculating pairwise similarity \n",
    "using K-L Divergence as the similarity measure:\n",
    "\n",
    "Job 1: create inverted index (assume just two objects)\n",
    "Job 2: calculate/accumulate the similarity of each pair of objects using K-L Divergence\n",
    "\n",
    "Download the following notebook and then fill in the code for the first reducer to calculate \n",
    "the K-L divergence of objects (letter documents) in line1 and line2, i.e., KLD(Line1||line2).\n",
    "\n",
    "Here we ignore characters which are not alphabetical. And all alphabetical characters are lower-cased in the first mapper.\n",
    "\n",
    "http://nbviewer.ipython.org/urls/dl.dropbox.com/s/9onx4c2dujtkgd7/Kullback%E2%80%93Leibler%20divergence-MIDS-Midterm.ipynb\n",
    "https://www.dropbox.com/s/zr9xfhwakrxz9hc/Kullback%E2%80%93Leibler%20divergence-MIDS-Midterm.ipynb?dl=0"
   ]
  },
  {
   "cell_type": "markdown",
   "metadata": {},
   "source": [
    "## Using the MRJob Class below  calculate the  KL divergence of the following two string objects."
   ]
  },
  {
   "cell_type": "code",
   "execution_count": null,
   "metadata": {
    "collapsed": false
   },
   "outputs": [],
   "source": [
    "%%writefile kltext.txt\n",
    "1.Data Science is an interdisciplinary field about processes and systems to extract knowledge or insights from large volumes of data in various forms (data in various forms, data in various forms, data in various forms), either structured or unstructured,[1][2] which is a continuation of some of the data analysis fields such as statistics, data mining and predictive analytics, as well as Knowledge Discovery in Databases.\n",
    "2.Machine learning is a subfield of computer science[1] that evolved from the study of pattern recognition and computational learning theory in artificial intelligence.[1] Machine learning explores the study and construction of algorithms that can learn from and make predictions on data.[2] Such algorithms operate by building a model from example inputs in order to make data-driven predictions or decisions,[3]:2 rather than following strictly static program instructions."
   ]
  },
  {
   "cell_type": "markdown",
   "metadata": {},
   "source": [
    "## MRjob class for calculating pairwise similarity using K-L Divergence as the similarity measure\n",
    "\n",
    "Job 1: create inverted index (assume just two objects) <P>\n",
    "Job 2: calculate the similarity of each pair of objects "
   ]
  },
  {
   "cell_type": "code",
   "execution_count": null,
   "metadata": {
    "collapsed": false
   },
   "outputs": [],
   "source": [
    "import numpy as np\n",
    "np.log(3)"
   ]
  },
  {
   "cell_type": "code",
   "execution_count": null,
   "metadata": {
    "collapsed": false
   },
   "outputs": [],
   "source": [
    "!cat kltext.txt"
   ]
  },
  {
   "cell_type": "code",
   "execution_count": 4,
   "metadata": {
    "collapsed": false
   },
   "outputs": [
    {
     "name": "stdout",
     "output_type": "stream",
     "text": [
      "Overwriting kldivergence.py\n"
     ]
    }
   ],
   "source": [
    "%%writefile kldivergence.py\n",
    "from __future__ import division\n",
    "from mrjob.job import MRJob\n",
    "import re\n",
    "import numpy as np\n",
    "class kldivergence(MRJob):\n",
    "    \n",
    "    # process each string character by character\n",
    "    # the relative frequency of each character emitting Pr(character|str)\n",
    "    # for input record 1.abcbe\n",
    "    # emit \"a\"    [1, 0.2]\n",
    "    # emit \"b\"    [1, 0.4] etc...\n",
    "    def mapper1(self, _, line):\n",
    "        index = int(line.split('.',1)[0])\n",
    "        letter_list = re.sub(r\"[^A-Za-z]+\", '', line).lower()\n",
    "        count = {}\n",
    "        for l in letter_list:\n",
    "            if count.has_key(l):\n",
    "                count[l] += 1\n",
    "            else:\n",
    "                count[l] = 1\n",
    "        for key in count:\n",
    "            yield key, [index, count[key]*1.0/len(letter_list)]\n",
    "\n",
    "    # on a component i calculate (e.g., \"b\")\n",
    "    # Kullback–Leibler divergence of Q from P is defined\n",
    "    #  (P(i) log (P(i) / Q(i))\n",
    "    #\n",
    "    def reducer1(self, key, values):\n",
    "        p = 0\n",
    "        q = 0\n",
    "        for v in values:\n",
    "            if v[0] == 1:  #String 1\n",
    "                p = v[1]\n",
    "            else:          # String 2\n",
    "                q = v[1]\n",
    "                \n",
    "        yield key, log(p)-log(q)\n",
    "\n",
    "    #Aggegate components            \n",
    "    def reducer2(self, key, values):\n",
    "        kl_sum = 0\n",
    "        for value in values:\n",
    "            kl_sum = kl_sum + value\n",
    "        yield \"KLDivergence\", kl_sum\n",
    "            \n",
    "    def steps(self):\n",
    "        return [self.mr(mapper=self.mapper1,\n",
    "                        reducer=self.reducer1),\n",
    "                \n",
    "                self.mr(reducer=self.reducer2)\n",
    "               \n",
    "               ]\n",
    "\n",
    "if __name__ == '__main__':\n",
    "    kldivergence.run()"
   ]
  },
  {
   "cell_type": "code",
   "execution_count": 5,
   "metadata": {
    "collapsed": false
   },
   "outputs": [
    {
     "ename": "SyntaxError",
     "evalue": "Non-ASCII character '\\xe2' in file kldivergence.py on line 25, but no encoding declared; see http://python.org/dev/peps/pep-0263/ for details (kldivergence.py, line 25)",
     "output_type": "error",
     "traceback": [
      "\u001b[1;36m  File \u001b[1;32m\"kldivergence.py\"\u001b[1;36m, line \u001b[1;32m25\u001b[0m\n\u001b[1;33m    # Kullback–Leibler divergence of Q from P is defined\u001b[0m\n\u001b[1;37m                                                        ^\u001b[0m\n\u001b[1;31mSyntaxError\u001b[0m\u001b[1;31m:\u001b[0m Non-ASCII character '\\xe2' in file kldivergence.py on line 25, but no encoding declared; see http://python.org/dev/peps/pep-0263/ for details\n"
     ]
    }
   ],
   "source": [
    "%reload_ext autoreload\n",
    "%autoreload 2\n",
    "from mrjob.job import MRJob\n",
    "from kldivergence import kldivergence\n",
    "\n",
    "#dont forget to save kltext.txt (see earlier cell)\n",
    "mr_job = kldivergence(args=['kltext.txt'])\n",
    "with mr_job.make_runner() as runner: \n",
    "    runner.run()\n",
    "    # stream_output: get access of the output \n",
    "    for line in runner.stream_output():\n",
    "        print mr_job.parse_output_line(line)"
   ]
  },
  {
   "cell_type": "markdown",
   "metadata": {},
   "source": [
    "Questions:"
   ]
  },
  {
   "cell_type": "markdown",
   "metadata": {},
   "source": [
    "### MT7. Which number below is the closest to the result you get for KLD(Line1||line2)?   \n",
    "(a) 0.7   \n",
    "(b) 0.5   \n",
    "(c) 0.2   \n",
    "(d) 0.1  "
   ]
  },
  {
   "cell_type": "code",
   "execution_count": null,
   "metadata": {
    "collapsed": true
   },
   "outputs": [],
   "source": []
  },
  {
   "cell_type": "markdown",
   "metadata": {},
   "source": [
    "### MT8. Which of the following letters are missing from these character vectors?   \n",
    "(a) p and t   \n",
    "(b) k and q   \n",
    "(c) j and q   \n",
    "(d) j and f   "
   ]
  },
  {
   "cell_type": "code",
   "execution_count": null,
   "metadata": {
    "collapsed": true
   },
   "outputs": [],
   "source": []
  },
  {
   "cell_type": "code",
   "execution_count": null,
   "metadata": {
    "collapsed": false
   },
   "outputs": [],
   "source": [
    "%%writefile kldivergence_smooth.py\n",
    "from __future__ import division\n",
    "from mrjob.job import MRJob\n",
    "import re\n",
    "import numpy as np\n",
    "class kldivergence_smooth(MRJob):\n",
    "    \n",
    "    # process each string character by character\n",
    "    # the relative frequency of each character emitting Pr(character|str)\n",
    "    # for input record 1.abcbe\n",
    "    # emit \"a\"    [1, (1+1)/(5+24)]\n",
    "    # emit \"b\"    [1, (2+1)/(5+24) etc...\n",
    "    def mapper1(self, _, line):\n",
    "        index = int(line.split('.',1)[0])\n",
    "        letter_list = re.sub(r\"[^A-Za-z]+\", '', line).lower()\n",
    "        count = {}\n",
    "        \n",
    "        # (ni+1)/(n+24)\n",
    "        \n",
    "        for l in letter_list:\n",
    "            if count.has_key(l):\n",
    "                count[l] += 1\n",
    "            else:\n",
    "                count[l] = 1\n",
    "        for key in count:\n",
    "            yield key, [index, ........]\n",
    "\n",
    "    \n",
    "    def reducer1(self, key, values):\n",
    "        p = 0\n",
    "        q = 0\n",
    "        for v in values:\n",
    "            if v[0] == 1:\n",
    "                p = v[1]\n",
    "            else:\n",
    "                q = v[1]\n",
    "                \n",
    "        yield \"*\",  .....\n",
    "\n",
    "    # Aggregate components             \n",
    "    def reducer2(self, key, values):\n",
    "        kl_sum = 0\n",
    "        for value in values:\n",
    "            kl_sum = kl_sum + value\n",
    "        yield \"KLDivergence\", kl_sum\n",
    "            \n",
    "    def steps(self):\n",
    "        return [self.mr(mapper=self.mapper1,\n",
    "                        reducer=self.reducer1),\n",
    "                self.mr(reducer=self.reducer2)\n",
    "               \n",
    "               ]\n",
    "\n",
    "if __name__ == '__main__':\n",
    "    kldivergence_smooth.run()"
   ]
  },
  {
   "cell_type": "code",
   "execution_count": null,
   "metadata": {
    "collapsed": false
   },
   "outputs": [],
   "source": [
    "%reload_ext autoreload\n",
    "%autoreload 2\n",
    "\n",
    "from kldivergence import kldivergence\n",
    "mr_job = kldivergence(args=['kltext.txt'])\n",
    "with mr_job.make_runner() as runner: \n",
    "    runner.run()\n",
    "    # stream_output: get access of the output \n",
    "    for line in runner.stream_output():\n",
    "        print mr_job.parse_output_line(line)"
   ]
  },
  {
   "cell_type": "markdown",
   "metadata": {},
   "source": [
    "### MT9. The KL divergence on multinomials is defined only when they have nonzero entries. \n",
    "For zero entries, we have to smooth distributions. Suppose we smooth in this way:    \n",
    "\n",
    "(ni+1)/(n+24)   \n",
    "\n",
    "where ni is the count for letter i and n is the total count of all letters.    \n",
    "After smoothing, which number below is the closest to the result you get for KLD(Line1||line2)??   \n",
    "\n",
    "(a) 0.08   \n",
    "(b) 0.71     \n",
    "(c) 0.02    \n",
    "(d) 0.11   \n",
    "\n"
   ]
  },
  {
   "cell_type": "code",
   "execution_count": null,
   "metadata": {
    "collapsed": true
   },
   "outputs": [],
   "source": []
  },
  {
   "cell_type": "markdown",
   "metadata": {},
   "source": [
    "===Gradient descent===\n",
    "\n",
    "### MT10. Which of the following are true statements with respect to gradient descent for machine learning, where alpha is the learning rate. Select all that apply   (stretch question)\n",
    "\n",
    " (a) To make gradient descent converge, we must slowly decrease alpha over time and use a combiner in the context of Hadoop.   \n",
    " (b) Gradient descent is guaranteed to find the global minimum for any function J() regardless of using a combiner or not in the context of Hadoop   \n",
    " (c) Gradient descent can converge even if alpha is kept fixed. (But alpha cannot be too large, or else it may fail to converge.) Combiners will help speed up the process.   \n",
    " (d) For the specific choice of cost function J() used in linear regression, there is no local optima (other than the global optimum).   "
   ]
  },
  {
   "cell_type": "code",
   "execution_count": null,
   "metadata": {
    "collapsed": true
   },
   "outputs": [],
   "source": []
  },
  {
   "cell_type": "markdown",
   "metadata": {},
   "source": [
    "## Weighted K-means\n",
    "\n",
    "Below is MRJob code  for computing the KMeans of a 2-dimensional input data set. Modify this  MRJob to do the training at scale of a weighted K-means algorithm.\n",
    "\n",
    "Weight each example as follows using the inverse vector length (Euclidean norm): \n",
    "\n",
    "    + weight(X)= 1/||X||, \n",
    "\n",
    "where ||X|| = SQRT(X.X)= SQRT(x1^2 + x2^2)\n",
    "\n",
    "The weighted mean of a set of numbers of the form (x1 , x2), with corresponding weights (w1 , w2)  is computed from the following formula:\n",
    "\n",
    "    + weightedMean = (w1 * x1 + w2 * x2) / (w1 + w2) \n",
    "\n",
    "Here X is vector made up of x1 and x2. For more information on the weighted mean, see https://en.wikipedia.org/wiki/Weighted_arithmetic_mean\n",
    "\n",
    "Using the following data answer the following questions (download and save to this directory):\n",
    "\n",
    "   + https://www.dropbox.com/s/ai1uc3q2ucverly/Kmeandata.csv?dl=0"
   ]
  },
  {
   "cell_type": "markdown",
   "metadata": {},
   "source": [
    "### Check that the data is available in the local directory"
   ]
  },
  {
   "cell_type": "code",
   "execution_count": 1,
   "metadata": {
    "collapsed": false
   },
   "outputs": [
    {
     "name": "stdout",
     "output_type": "stream",
     "text": [
      "head: cannot open ‘Kmeandata.csv’ for reading: No such file or directory\r\n"
     ]
    }
   ],
   "source": [
    "!head Kmeandata.csv "
   ]
  },
  {
   "cell_type": "code",
   "execution_count": 40,
   "metadata": {
    "collapsed": false
   },
   "outputs": [
    {
     "name": "stdout",
     "output_type": "stream",
     "text": [
      "Overwriting MRKmeansIteration.py\n"
     ]
    }
   ],
   "source": [
    "%%writefile MRKmeansIteration.py\n",
    "from numpy import argmin, array, random\n",
    "from mrjob.job import MRJob\n",
    "from mrjob.step import MRStep\n",
    "import os\n",
    "\n",
    "#Calculate find the nearest centroid for data point \n",
    "def MinDist(datapoint, centroid_points):\n",
    "    datapoint = array(datapoint)\n",
    "    centroid_points = array(centroid_points)\n",
    "    diff = datapoint - centroid_points \n",
    "    diffsq = diff*diff\n",
    "    # Get the nearest centroid for each instance\n",
    "    minidx = argmin(list(diffsq.sum(axis = 1)))\n",
    "    return minidx\n",
    "\n",
    "\n",
    "class MRKmeansIteration(MRJob):\n",
    "    k=3    \n",
    "    def steps(self):\n",
    "        return [MRStep(mapper_init = self.mapper_init, \n",
    "                       mapper=self.mapper,\n",
    "                       combiner = self.combiner,\n",
    "                       reducer=self.reducer)\n",
    "               ]\n",
    "#    def jobconf(self):\n",
    "#        orig_jobconf = super(MRKmeansIteration, self).jobconf()        \n",
    "#        custom_jobconf = {\n",
    "#            'mapred.output.key.comparator.class': 'org.apache.hadoop.mapred.lib.KeyFieldBasedComparator',\n",
    "#            'mapred.text.key.comparator.options': '-k1rn',\n",
    "#            'mapred.reduce.tasks': '1',\n",
    "#        }\n",
    "#        combined_jobconf = orig_jobconf\n",
    "#        combined_jobconf.update(custom_jobconf)\n",
    "#        self.jobconf = combined_jobconf\n",
    "#        return combined_jobconf\n",
    "\n",
    "    def configure_options(self):\n",
    "        \"\"\"Add command-line options specific to this script.\"\"\"\n",
    "        super(MRKmeansIteration, self).configure_options()\n",
    "\n",
    "        self.add_passthrough_option(\n",
    "            '--centroidsFile', dest='centroidsFile', default=\"Centroids.txt\", type='str',#type='int',\n",
    "            help=('The location of the centroids file that contains the centroids '\n",
    "                  ' that will be used for this iteration of KMeans Clustering. Default: %Centroids.txt'))\n",
    "\n",
    "    #load centroids info from file\n",
    "    def mapper_init(self):\n",
    "        print \"Current path:\", os.path.dirname(os.path.realpath(__file__))\n",
    "        self.centroid_points = [map(float,s.split('\\n')[0].split(',')) for s in open(self.options.centroidsFile).readlines()]\n",
    "        print \"Centroids: \", self.centroid_points\n",
    "        \n",
    "    #load data and output the nearest centroid index and data point \n",
    "    def mapper(self, _, line):\n",
    "        D = (map(float,line.split(',')))\n",
    "        \n",
    "        # w = 1/(np.sqrt(D[0]**2 + D[1]**2)) # compute weight\n",
    "        yield int(MinDist(D,self.centroid_points)), (D[0],D[1],1)\n",
    "        \n",
    "    #Combine sum of data points locally\n",
    "    def combiner(self, idx, inputdata):\n",
    "        sumx = sumy = num = 0\n",
    "        for x,y,n in inputdata:\n",
    "            num = num + n\n",
    "            sumx = sumx + x\n",
    "            sumy = sumy + y\n",
    "        yield idx,(sumx,sumy,num)\n",
    "        \n",
    "    #Aggregate sum for each cluster and then calculate the new centroids\n",
    "    def reducer(self, idx, inputdata): \n",
    "        sumx = sumy = num = 0\n",
    "        for x,y,n in inputdata:\n",
    "            num = num + n\n",
    "            sumx = sumx + x\n",
    "            sumy = sumy + y\n",
    "        # send the centroids back to the driver\n",
    "        yield idx,(sumx/num, sumy/num)\n",
    "      \n",
    "if __name__ == '__main__':\n",
    "    MRKmeansIteration.run()"
   ]
  },
  {
   "cell_type": "code",
   "execution_count": 26,
   "metadata": {
    "collapsed": false
   },
   "outputs": [
    {
     "name": "stdout",
     "output_type": "stream",
     "text": [
      "Writing Centroids.txt\n"
     ]
    }
   ],
   "source": [
    "%%writefile Centroids.txt\n",
    "1.88191837648,0.761374538163\n",
    "0.0194073517331,2.92156922133\n",
    "0.334820407262,0.480496801461"
   ]
  },
  {
   "cell_type": "code",
   "execution_count": 37,
   "metadata": {
    "collapsed": false
   },
   "outputs": [
    {
     "name": "stdout",
     "output_type": "stream",
     "text": [
      "1.88191837648,0.761374538163\r\n",
      "0.0194073517331,2.92156922133\r\n",
      "0.334820407262,0.480496801461"
     ]
    }
   ],
   "source": [
    "!head Centroids.txt   #fake cluster centroids"
   ]
  },
  {
   "cell_type": "code",
   "execution_count": 41,
   "metadata": {
    "collapsed": false
   },
   "outputs": [
    {
     "name": "stdout",
     "output_type": "stream",
     "text": [
      "using configs in /Users/jshanahan/.mrjob.conf\n",
      "creating tmp directory /var/folders/j4/95k348x940xcz40fkdmgy_n40000gn/T/MRKmeansIteration.jshanahan.20160711.132307.641399\n",
      "\n",
      "PLEASE NOTE: Starting in mrjob v0.5.0, protocols will be strict by default. It's recommended you run your job with --strict-protocols or set up mrjob.conf as described at https://pythonhosted.org/mrjob/whats-new.html#ready-for-strict-protocols\n",
      "\n",
      "writing to /var/folders/j4/95k348x940xcz40fkdmgy_n40000gn/T/MRKmeansIteration.jshanahan.20160711.132307.641399/step-0-mapper_part-00000\n",
      "Current path: /Users/jshanahan/Dropbox/Projects/Target-2016-04/Exams/MidTerm\n",
      "Centroids:  [[0.0530654237881, 4.98779342394], [-4.9858056889, 0.000937609436363], [5.04023271609, -0.0262942299783]]\n",
      "Counters from step 1:\n",
      "  (no counters found)\n",
      "writing to /var/folders/j4/95k348x940xcz40fkdmgy_n40000gn/T/MRKmeansIteration.jshanahan.20160711.132307.641399/step-0-mapper-sorted\n",
      "> sort /var/folders/j4/95k348x940xcz40fkdmgy_n40000gn/T/MRKmeansIteration.jshanahan.20160711.132307.641399/step-0-mapper_part-00000\n",
      "writing to /var/folders/j4/95k348x940xcz40fkdmgy_n40000gn/T/MRKmeansIteration.jshanahan.20160711.132307.641399/step-0-reducer_part-00000\n",
      "Counters from step 1:\n",
      "  (no counters found)\n",
      "Moving /var/folders/j4/95k348x940xcz40fkdmgy_n40000gn/T/MRKmeansIteration.jshanahan.20160711.132307.641399/step-0-reducer_part-00000 -> /var/folders/j4/95k348x940xcz40fkdmgy_n40000gn/T/MRKmeansIteration.jshanahan.20160711.132307.641399/output/part-00000\n",
      "Streaming final output from /var/folders/j4/95k348x940xcz40fkdmgy_n40000gn/T/MRKmeansIteration.jshanahan.20160711.132307.641399/output\n",
      "0\t[0.053065423788148436, 4.987793423944292]\n",
      "1\t[-4.985805688899424, 0.0009376094363627237]\n",
      "2\t[5.040232716088853, -0.02629422997828942]\n",
      "removing tmp directory /var/folders/j4/95k348x940xcz40fkdmgy_n40000gn/T/MRKmeansIteration.jshanahan.20160711.132307.641399\n"
     ]
    }
   ],
   "source": [
    "#Test an iteration of KMeans\n",
    "!python MRKmeansIteration.py --centroidsFile=Centroids.txt --file=Centroids.txt Kmeandata.csv "
   ]
  },
  {
   "cell_type": "code",
   "execution_count": 38,
   "metadata": {
    "collapsed": false,
    "scrolled": true
   },
   "outputs": [
    {
     "name": "stdout",
     "output_type": "stream",
     "text": [
      "Starting KMeans Iteration 0:\n",
      "Current path: /Users/jshanahan/Dropbox/Projects/Target-2016-04/Exams/MidTerm\n",
      "Centroids:  [[-0.724536070622, -1.03571409977], [-2.08289835342, -1.00923887897], [0.990118849721, -1.83724787739]]\n",
      "\n",
      "\n",
      "Starting KMeans Iteration 1:\n",
      "Current path: /Users/jshanahan/Dropbox/Projects/Target-2016-04/Exams/MidTerm\n",
      "Centroids:  [[0.367929195709, 5.00689665486], [-4.57829671304, 0.667068811847], [5.00887421235, 0.0216688773423]]\n",
      "\n",
      "\n",
      "Starting KMeans Iteration 2:\n",
      "Current path: /Users/jshanahan/Dropbox/Projects/Target-2016-04/Exams/MidTerm\n",
      "Centroids:  [[0.0810110167841, 5.00564235503], [-4.96107685385, 0.0300682736155], [5.04289369697, -0.0286039297117]]\n",
      "\n",
      "\n",
      "Starting KMeans Iteration 3:\n",
      "Current path: /Users/jshanahan/Dropbox/Projects/Target-2016-04/Exams/MidTerm\n",
      "Centroids:  [[0.0530654237881, 4.98779342394], [-4.9858056889, 0.000937609436363], [5.04023271609, -0.0262942299783]]\n",
      "\n",
      "\n",
      "Centroids\n",
      "\n",
      "[[0.053065423788148436, 4.987793423944292], [-4.985805688899424, 0.0009376094363627237], [5.040232716088853, -0.02629422997828942]]\n"
     ]
    }
   ],
   "source": [
    "%reload_ext autoreload\n",
    "%autoreload 2\n",
    "from itertools import chain\n",
    "from numpy import random\n",
    "from MRKmeansIteration import MRKmeansIteration\n",
    "\n",
    "\n",
    "#Check whether the centroids have converged\n",
    "def stop_criterion(centroid_points_old, centroid_points_new,T):\n",
    "    oldvalue = list(chain(*centroid_points_old))\n",
    "    newvalue = list(chain(*centroid_points_new))\n",
    "    Diff = [abs(x-y) for x, y in zip(oldvalue, newvalue)]\n",
    "    Flag = True\n",
    "    for i in Diff:\n",
    "        if(i>T):\n",
    "            Flag = False\n",
    "            break\n",
    "    return Flag\n",
    "\n",
    "#Generate initial centroids\n",
    "centroid_points = []\n",
    "k = 3\n",
    "# the file that is broadcast to the workers before each iteration is started\n",
    "centroidsFile = 'Centroids.txt'  \n",
    "for i in range(k):\n",
    "    centroid_points.append([random.uniform(-3,3),random.uniform(-3,3)])\n",
    "with open(centroidsFile, 'w+') as f:\n",
    "        f.writelines(','.join(str(j) for j in i) + '\\n' for i in centroid_points)\n",
    "\n",
    "\n",
    "# Create an instance of the KMeansIteration class\n",
    "# This does all the work of assigning the data to centroids and recalculating the centroids \n",
    "# before shipping them back to the driver\n",
    "#mr_job = MRKmeansIteration(args=['Kmeandata.csv', '--file=Centroids.txt',  '--k=3' ])\n",
    "mr_job = MRKmeansIteration(args=['Kmeandata.csv', '--centroidsFile='+centroidsFile, '--file='+centroidsFile])\n",
    "\n",
    "# Update centroids iteratively\n",
    "i = 0\n",
    "while(1):\n",
    "    # save previous centoids to check convergency\n",
    "    centroid_points_old = centroid_points[:]\n",
    "    print \"Starting KMeans Iteration \"+str(i)+\":\"\n",
    "\n",
    "    with mr_job.make_runner() as runner: \n",
    "        runner.run()\n",
    "\n",
    "        # stream_output: get access of the output \n",
    "        for line in runner.stream_output():\n",
    "            key,value =  mr_job.parse_output_line(line)\n",
    "            centroid_points[key] = value\n",
    "\n",
    "        # Update the centroids for the next iteration\n",
    "        with open(centroidsFile, 'w') as f:\n",
    "            f.writelines(','.join(str(j) for j in i) + '\\n' for i in centroid_points)\n",
    "\n",
    "        print \"\\n\"\n",
    "        i = i + 1\n",
    "        if(stop_criterion(centroid_points_old,centroid_points,0.01)):\n",
    "            break\n",
    "print \"Centroids\\n\"\n",
    "print centroid_points"
   ]
  },
  {
   "cell_type": "markdown",
   "metadata": {},
   "source": [
    "## KMEANS Questions:"
   ]
  },
  {
   "cell_type": "markdown",
   "metadata": {},
   "source": [
    "### MT11. Which result below is the closest to the centroids you got after running your weighted K-means code for 10 iterations?   \n",
    "\n",
    "(a) (-4.0,0.0), (4.0,0.0), (6.0,6.0)   \n",
    "(b) (-4.5,0.0), (4.5,0.0), (0.0,4.5)  \n",
    "(c) (-5.5,0.0), (0.0,0.0), (3.0,3.0)   \n",
    "(d) (-4.5,0.0), (-4.0,0.0), (0.0,4.5)   "
   ]
  },
  {
   "cell_type": "markdown",
   "metadata": {},
   "source": [
    "### MT12. Using the result of the previous question, which number below is the closest  to the average weighted distance between each example and its assigned (closest) centroid?\n",
    "The average weighted distance is defined as \n",
    "* sum over each data point i  (weight_i * MinDist(datapoint, centroid_points) )     /  (sum over i (weight_i))\n",
    "\n",
    "where *weight_i* is defined as above:\n",
    "\n",
    "* weight_i = weight(Xi)= 1/||Xi||, \n",
    "\n",
    "where ||Xi|| = SQRT(Xi.Xi)= SQRT(x1_i^2 + x2_i^2)\n",
    "\n",
    "\n",
    "(a) 2.5   \n",
    "(b) 1.5   \n",
    "(c) 0.5   \n",
    "(d) 4.0"
   ]
  },
  {
   "cell_type": "markdown",
   "metadata": {},
   "source": [
    "===Map-Reduce===\n",
    "\n",
    "### MT13. Which of the following statements are true? Select all that apply.    \n",
    " (a)\t  Since K-Means is an unsupervised learning algorithm, it cannot overfit the data, and thus it is always better to have as large a number of clusters as is computationally feasible. (this is jus one way. you can also use random initialization) \n",
    " (b)\t  The standard way of initializing K-means is setting μ1=⋯=μk to be equal to a vector of zeros.    \n",
    " (c)\t  For some datasets, the \"right\" or \"correct\" value of K (the number of clusters) can be ambiguous, and hard even for a human expert looking carefully at the data to decide.    \n",
    " (d)\t  A good way to initialize K-means is to select uniformly at random K (distinct) examples from the training set and set the cluster centroids equal to these selected examples.    "
   ]
  },
  {
   "cell_type": "code",
   "execution_count": null,
   "metadata": {
    "collapsed": true
   },
   "outputs": [],
   "source": [
    "MT13. c, d"
   ]
  },
  {
   "cell_type": "markdown",
   "metadata": {},
   "source": [
    "### MT14. Is there a map input format (for Hadoop or MRJob)?   \n",
    "\n",
    "(a)  Yes, but only in Hadoop 0.22+.   \n",
    "(b)  Yes, in Hadoop there is a default expectation that each record is delimited by an end of line charcacter and that key is the first token delimited by a tab character and that the value-part  is everything after the tab character.   \n",
    "(c)  No,  when  MRJob INPUT_PROTOCOL = RawValueProtocol. In this case input is processed in format agnostic way thereby avoiding any type of parsing errors. The value is treated as a str, the key is read in as None.   \n",
    "(d) Both b and c are correct answers.  "
   ]
  },
  {
   "cell_type": "code",
   "execution_count": null,
   "metadata": {
    "collapsed": true
   },
   "outputs": [],
   "source": [
    "MT14. d"
   ]
  },
  {
   "cell_type": "markdown",
   "metadata": {},
   "source": [
    "### MT15. What happens if mapper output does not match reducer input?   \n",
    " \n",
    "(a)  Hadoop API will convert the data to the type that is needed by the reducer.    \n",
    "(b)  Data input/output inconsistency cannot occur. A preliminary validation check is executed prior to the full execution of the job to ensure there is consistency.    \n",
    "(c)  The java compiler will report an error during compilation but the job will complete with exceptions.    \n",
    "(d)  A real-time exception will be thrown and map-reduce job will fail."
   ]
  },
  {
   "cell_type": "code",
   "execution_count": null,
   "metadata": {
    "collapsed": true
   },
   "outputs": [],
   "source": [
    "MT15. b"
   ]
  },
  {
   "cell_type": "markdown",
   "metadata": {
    "collapsed": true
   },
   "source": [
    "### MT16. Why would a developer create a map-reduce without the reduce step?   \n",
    " \n",
    "(a)  Developers should design Map-Reduce jobs without reducers only if no reduce slots are available on the cluster.    \n",
    "(b)  Developers should never design Map-Reduce jobs without reducers. An error will occur upon compile.    \n",
    "(c)  There is a CPU intensive step that occurs between the map and reduce steps. Disabling the reduce step speeds up data processing.  \n",
    "(d)  It is not possible to create a map-reduce job without at least one reduce step. A developer may decide to limit to one reducer for debugging purposes.   \n",
    "\n"
   ]
  },
  {
   "cell_type": "markdown",
   "metadata": {},
   "source": []
  },
  {
   "cell_type": "markdown",
   "metadata": {
    "collapsed": true
   },
   "source": [
    "# END of Exam"
   ]
  }
 ],
 "metadata": {
  "kernelspec": {
   "display_name": "Python 2",
   "language": "python",
   "name": "python2"
  },
  "language_info": {
   "codemirror_mode": {
    "name": "ipython",
    "version": 2
   },
   "file_extension": ".py",
   "mimetype": "text/x-python",
   "name": "python",
   "nbconvert_exporter": "python",
   "pygments_lexer": "ipython2",
   "version": "2.7.10"
  }
 },
 "nbformat": 4,
 "nbformat_minor": 0
}
