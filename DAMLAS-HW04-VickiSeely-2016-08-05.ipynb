{
 "cells": [
  {
   "cell_type": "code",
   "execution_count": 1,
   "metadata": {
    "collapsed": false
   },
   "outputs": [],
   "source": [
    "import os\n",
    "import sys\n",
    "import dateutil.parser\n",
    "import dateutil.relativedelta as dateutil_rd\n",
    "\n",
    "spark_path = \"C:/opt/spark\"\n",
    "\n",
    "os.environ['SPARK_HOME'] = spark_path\n",
    "os.environ['HADOOP_HOME'] = spark_path\n",
    "\n",
    "sys.path.append(spark_path + \"/bin\")\n",
    "sys.path.append(spark_path + \"/python\")\n",
    "sys.path.append(spark_path + \"/python/pyspark/\")\n",
    "sys.path.append(spark_path + \"/python/lib\")\n",
    "sys.path.append(spark_path + \"/python/lib/pyspark.zip\")\n",
    "sys.path.append(spark_path + \"/python/lib/py4j-0.9-src.zip\")\n",
    "\n",
    "from pyspark import SparkContext\n",
    "from pyspark import SparkConf\n",
    "from pyspark import SQLContext\n",
    "\n",
    "sc = SparkContext(\"local\", \"test\")\n",
    "sqlContext = SQLContext(sc)"
   ]
  },
  {
   "cell_type": "code",
   "execution_count": 2,
   "metadata": {
    "collapsed": false
   },
   "outputs": [
    {
     "name": "stdout",
     "output_type": "stream",
     "text": [
      "<pyspark.context.SparkContext object at 0x0000000003C4A358>\n",
      "<pyspark.sql.context.SQLContext object at 0x0000000003C4A588>\n"
     ]
    }
   ],
   "source": [
    "print(sc)\n",
    "print(sqlContext)"
   ]
  },
  {
   "cell_type": "code",
   "execution_count": 3,
   "metadata": {
    "collapsed": false
   },
   "outputs": [
    {
     "data": {
      "application/javascript": [
       "/**********************************************************************************************\n",
       "Known Mathjax Issue with Chrome - a rounding issue adds a border to the right of mathjax markup\n",
       "https://github.com/mathjax/MathJax/issues/1300\n",
       "A quick hack to fix this based on stackoverflow discussions: \n",
       "http://stackoverflow.com/questions/34277967/chrome-rendering-mathjax-equations-with-a-trailing-vertical-line\n",
       "**********************************************************************************************/\n",
       "\n",
       "$('.math>span').css(\"border-left-color\",\"transparent\")"
      ],
      "text/plain": [
       "<IPython.core.display.Javascript object>"
      ]
     },
     "metadata": {},
     "output_type": "display_data"
    }
   ],
   "source": [
    "%%javascript\n",
    "/**********************************************************************************************\n",
    "Known Mathjax Issue with Chrome - a rounding issue adds a border to the right of mathjax markup\n",
    "https://github.com/mathjax/MathJax/issues/1300\n",
    "A quick hack to fix this based on stackoverflow discussions: \n",
    "http://stackoverflow.com/questions/34277967/chrome-rendering-mathjax-equations-with-a-trailing-vertical-line\n",
    "**********************************************************************************************/\n",
    "\n",
    "$('.math>span').css(\"border-left-color\",\"transparent\")"
   ]
  },
  {
   "cell_type": "code",
   "execution_count": 4,
   "metadata": {
    "collapsed": false
   },
   "outputs": [
    {
     "name": "stdout",
     "output_type": "stream",
     "text": [
      "Automatic pdb calling has been turned ON\n"
     ]
    }
   ],
   "source": [
    "%reload_ext autoreload\n",
    "%autoreload 2\n",
    "%pdb"
   ]
  },
  {
   "cell_type": "markdown",
   "metadata": {},
   "source": [
    "# DAMLAS - Machine Learning At Scale\n",
    "## Assignment - HW4\n",
    "Data Analytics and Machine Learning at Scale\n",
    "Target, Minneapolis\n",
    "\n",
    "---\n",
    "__Name:__  Vicki J Seely   \n",
    "__Class:__ DAMLAS (Summer 2016)     \n",
    "__Email:__  vicki.seely@target.com     \n",
    "__Week:__   04"
   ]
  },
  {
   "cell_type": "markdown",
   "metadata": {},
   "source": [
    "# Table of Contents <a name=\"TOC\"></a> \n",
    "\n",
    "1.  [HW Introduction](#1)   \n",
    "2.  [HW References](#2)\n",
    "3.  [HW 4 Problems](#3)   \n",
    "    4.0.  [Final Project description](#4.0)   \n",
    "    4.1.  [Build a decision to predict whether you can play tennis or no](#4.1)   \n",
    "    4.2.  [Regression Tree (OPTIONAL Homework)](#4.2)    \n",
    "    4.3.  [Predict survival on the Titanic](#4.3)    \n",
    "    4.4.  [Heritage Healthcare Prize (Predict # Days in Hospital next year)](#4.4)  "
   ]
  },
  {
   "cell_type": "markdown",
   "metadata": {},
   "source": [
    "\n",
    "<a name=\"1\">\n",
    "# 1 Instructions\n",
    "[Back to Table of Contents](#TOC)\n",
    "* Homework submissions are due by Thursday, 08/18/2016 at 11AM (CT).\n",
    "\n",
    "\n",
    "* Prepare a single Jupyter notebook (not a requirment), please include questions, and question numbers in the questions and in the responses.\n",
    "Submit your homework notebook via the following form:\n",
    "\n",
    "   + [Submission Link - Google Form](http://goo.gl/forms/er3OFr5eCMWDngB72)\n",
    "\n",
    "\n",
    "### Documents:\n",
    "* IPython Notebook, published and viewable online.\n",
    "* PDF export of IPython Notebook.\n",
    "\n",
    "<a name=\"2\">\n",
    "# 2 Useful References\n",
    "[Back to Table of Contents](#TOC)\n",
    "\n",
    "* [Lecture Slides on Decision Trees and Ensembles](https://www.dropbox.com/s/lm4vuocqoq6mq7k/Lecture-13-Decision-Trees-PLanet.pdf?dl=0)\n",
    "* [Notebook on learning classification decision trees](http://nbviewer.jupyter.org/urls/dl.dropbox.com/s/p99ro9v9z81wtwh/Decision_Trees.ipynb)\n",
    "\n",
    "* Chapter 17 on decision Trees,   https://www.dropbox.com/s/5ca98ah5chqlcmn/Data_Science_from_Scratch%20%281%29.pdf?dl=0   [Please do not share this PDF]\n",
    "* Karau, Holden, Konwinski, Andy, Wendell, Patrick, & Zaharia, Matei. (2015). Learning Spark: Lightning-fast big data analysis. Sebastopol, CA: O’Reilly Publishers.\n",
    "* Hastie, Trevor, Tibshirani, Robert, & Friedman, Jerome. (2009). The elements of statistical learning: Data mining, inference, and prediction (2nd ed.). Stanford, CA: Springer Science+Business Media. __(Download for free [here](http://statweb.stanford.edu/~tibs/ElemStatLearn/printings/ESLII_print10.pdf))__\n",
    "* Ryza, Sandy, Laserson, Uri, Owen, Sean, & Wills, Josh. (2015). Advanced analytics with Spark: Patterns for learning from data at scale. Sebastopol, CA: O’Reilly Publishers.\n",
    "---\n",
    "\n",
    "---"
   ]
  },
  {
   "cell_type": "markdown",
   "metadata": {},
   "source": [
    "## 3.  HW4  <a name=\"4\"></a>\n",
    "[Back to Table of Contents](#TOC)"
   ]
  },
  {
   "cell_type": "markdown",
   "metadata": {},
   "source": [
    " <a name=\"4.0\"></a>\n",
    "## HW4.0 Final Project description\n",
    "\n",
    "Please prepare your project description using the following format\n",
    "* 200 words abstract\n",
    "* data source and description\n",
    "* pipeline of steps (in a block diagram)\n",
    "* Metrics for success\n",
    "\n",
    "PLEASE NOTE: We will probably have project team sizes of 3 people plus/minus 1"
   ]
  },
  {
   "cell_type": "markdown",
   "metadata": {
    "collapsed": true
   },
   "source": [
    " <a name=\"4.1\"></a>\n",
    "## HW4.1 Build a decision to predict whether you can play tennis or not\n",
    "\n",
    "[Back to Table of Contents](#TOC)\n",
    "\n",
    "Decision Trees\n",
    "\n",
    "Write a program in Python (or in Spark; the Spark part is optional) to implement the ID3 decision tree algorithm. Have a look at this [notebook](http://nbviewer.jupyter.org/urls/dl.dropbox.com/s/p99ro9v9z81wtwh/Decision_Trees.ipynb)  for ideas. You should build a tree to predict PlayTennis, based on the other attributes (but, do not use the Day attribute in your tree.). You should read in a space delimited dataset in a file called dataset.txt and output to the screen your decision tree and the training set accuracy in some readable format. For example, here is the tennis dataset. The first line will contain the names of the fields:\n",
    "\n",
    "<PRE>\n",
    "Day outlook temperature humidity wind playtennis\n",
    "d1 sunny hot high FALSE no\n",
    "d2 sunny hot high TRUE no\n",
    "d3 overcast hot high FALSE yes\n",
    "d4 rainy mild high FALSE yes\n",
    "d5 rainy cool normal FALSE yes\n",
    "d6 rainy cool normal TRUE no\n",
    "d6 overcast cool normal TRUE yes\n",
    "d7 sunny mild high FALSE no\n",
    "d8 sunny cool normal FALSE yes\n",
    "d9 rainy mild normal FALSE yes\n",
    "d10 sunny mild normal TRUE yes\n",
    "d11 overcast mild high TRUE yes\n",
    "d12 overcast hot normal FALSE yes\n",
    "d12 rainy mild high TRUE no\n",
    "</PRE>\n",
    "\n",
    "The last column is the classification attribute, and will always contain contain the values yes or no.\n",
    "\n",
    "For output, you can choose how to draw the tree so long as it is clear what the tree is. You might find it easier if you turn the decision tree on its side, and use indentation to show levels of the tree as it grows from the left. For example:\n",
    "\n",
    "<PRE>\n",
    "outlook = sunny\n",
    "|  humidity = high: no\n",
    "|  humidity = normal: yes\n",
    "outlook = overcast: yes\n",
    "outlook = rainy\n",
    "|  windy = TRUE: no\n",
    "|  windy = FALSE: yes\n",
    "\n",
    "</PRE>\n",
    "\n",
    "You don't need to make your tree output look exactly like above: feel free to print out something similarly readable if you think it is easier to code.\n",
    "\n",
    "You may find Python dictionaries especially useful here, as they will give you a quick an easy way to help manage counting the number of times you see a particular attribute.\n",
    "\n",
    "Here are some FAQs that I've gotten in the past regarding this assignment, and some I might get if I don't answer them now.\n",
    "\n",
    "__Should my code work for other datasets besides the tennis dataset?__ \n",
    "Yes. We will give your program a different dataset to try it out with. You may assume that our dataset is correct and well-formatted, but you should not make assumptions regrading number of rows, number of columns, or values that will appear within. The last column will also be the classification, and will always contain yes or no values.\n",
    "\n",
    "__Is it possible that some value, like \"normal,\" could appear in more than one column?__\n",
    "Yes. In addition to the column \"humidity\", we might have had another column called \"skycolor\" which could have values \"normal,\" \"weird,\" and \"bizarre.\"\n",
    "\n",
    "__Could \"yes\" and \"no\" appear as possible values in columns other than the classification column?__\n",
    "Yes. In addition to the classification column \"playtennis,\" we might have had another column called \"seasonalweather\" which would contain \"yes\" and \"no.\""
   ]
  },
  {
   "cell_type": "code",
   "execution_count": 5,
   "metadata": {
    "collapsed": false
   },
   "outputs": [],
   "source": [
    "inputs = [\n",
    "({'day':1, 'outlook':'sunny','temperature':'hot','humidity':'high', 'wind':'FALSE'}, False),\n",
    "({'day':2, 'outlook':'sunny', 'temperature':'hot', 'humidity':'high', 'wind':'TRUE'}, False),\n",
    "({'day':3, 'outlook':'overcast', 'temperature':'hot','humidity':'high','wind':'FALSE'}, True),\n",
    "({'day':4, 'outlook':'rainy', 'temperature':'mild', 'humidity':'high', 'wind':'FALSE'}, True),\n",
    "({'day':5, 'outlook':'rainy', 'temperature':'cool', 'humidity':'normal', 'wind':'FALSE'}, True),\n",
    "({'day':6, 'outlook':'rainy', 'temperature':'cool', 'humidity':'normal', 'wind':'TRUE'}, False),\n",
    "({'day':7, 'outlook':'overcast', 'temperature':'cool', 'humidity':'normal', 'wind':'TRUE'}, True),\n",
    "({'day':8, 'outlook':'sunny', 'temperature':'mild', 'humidity':'high', 'wind':'FALSE'}, False),\n",
    "({'day':9, 'outlook':'sunny', 'temperature':'cool', 'humidity':'normal', 'wind':'FALSE'}, True),\n",
    "({'day':10, 'outlook':'rainy', 'temperature':'mild', 'humidity':'normal', 'wind':'FALSE'}, True),\n",
    "({'day':11, 'outlook':'sunny', 'temperature':'mild', 'humidity':'normal', 'wind':'TRUE'}, True),\n",
    "({'day':12, 'outlook':'overcast', 'temperature':'mild', 'humidity':'high', 'wind':'TRUE'}, True),\n",
    "({'day':13, 'outlook':'overcast', 'temperature':'hot', 'humidity':'normal', 'wind':'FALSE'}, True),\n",
    "({'day':14, 'outlook':'rainy', 'temperature':'mild', 'humidity':'high', 'wind':'TRUE'}, False)\n",
    "]"
   ]
  },
  {
   "cell_type": "code",
   "execution_count": 6,
   "metadata": {
    "collapsed": false
   },
   "outputs": [
    {
     "name": "stdout",
     "output_type": "stream",
     "text": [
      "[({'outlook': 'sunny', 'humidity': 'high', 'wind': 'FALSE', 'temperature': 'hot'}, False), ({'outlook': 'sunny', 'humidity': 'high', 'wind': 'TRUE', 'temperature': 'hot'}, False), ({'outlook': 'overcast', 'humidity': 'high', 'wind': 'FALSE', 'temperature': 'hot'}, True), ({'outlook': 'rainy', 'humidity': 'high', 'wind': 'FALSE', 'temperature': 'mild'}, True), ({'outlook': 'rainy', 'humidity': 'normal', 'wind': 'FALSE', 'temperature': 'cool'}, True), ({'outlook': 'rainy', 'humidity': 'normal', 'wind': 'TRUE', 'temperature': 'cool'}, False), ({'outlook': 'overcast', 'humidity': 'normal', 'wind': 'TRUE', 'temperature': 'cool'}, True), ({'outlook': 'sunny', 'humidity': 'high', 'wind': 'FALSE', 'temperature': 'mild'}, False), ({'outlook': 'sunny', 'humidity': 'normal', 'wind': 'FALSE', 'temperature': 'cool'}, True), ({'outlook': 'rainy', 'humidity': 'normal', 'wind': 'FALSE', 'temperature': 'mild'}, True), ({'outlook': 'sunny', 'humidity': 'normal', 'wind': 'TRUE', 'temperature': 'mild'}, True), ({'outlook': 'overcast', 'humidity': 'high', 'wind': 'TRUE', 'temperature': 'mild'}, True), ({'outlook': 'overcast', 'humidity': 'normal', 'wind': 'FALSE', 'temperature': 'hot'}, True), ({'outlook': 'rainy', 'humidity': 'high', 'wind': 'TRUE', 'temperature': 'mild'}, False)]\n"
     ]
    }
   ],
   "source": [
    "for input in inputs:\n",
    "    del input[0]['day']\n",
    "print inputs"
   ]
  },
  {
   "cell_type": "code",
   "execution_count": 7,
   "metadata": {
    "collapsed": false
   },
   "outputs": [],
   "source": [
    "from __future__ import division\n",
    "from collections import Counter, defaultdict\n",
    "from functools import partial\n",
    "import math, random\n",
    "\n",
    "def entropy(class_probabilities):\n",
    "    \"\"\"given a list of class probabilities, compute the entropy\"\"\"\n",
    "    return sum(-p * math.log(p, 2) for p in class_probabilities if p)\n",
    "#    return max(1.0,sum(-p * math.log(p, 2) for p in class_probabilities if p))\n",
    "\n",
    "def class_probabilities(labels):\n",
    "    total_count = len(labels)\n",
    "    return [count/total_count for count in Counter(labels).values()]\n",
    "\n",
    "def data_entropy(labeled_data):        \n",
    "    labels = [label for _, label in labeled_data]\n",
    "    probabilities = class_probabilities(labels)\n",
    "    return entropy(probabilities)\n",
    "\n",
    "def partition_entropy(subsets):\n",
    "    \"\"\"find the entropy from this partition of data into subsets\"\"\"\n",
    "    total_count = sum(len(subset) for subset in subsets)    \n",
    "    return sum(data_entropy(subset)*len(subset)/total_count for subset in subsets )\n",
    "\n",
    "def group_by(items, key_fn):\n",
    "    \"\"\"returns a defaultdict(list), where each input item \n",
    "    is in the list whose key is key_fn(item)\"\"\"\n",
    "    groups = defaultdict(list)\n",
    "    for item in items:\n",
    "        key = key_fn(item)\n",
    "        groups[key].append(item)\n",
    "    return groups\n",
    "    \n",
    "def partition_by(inputs, attribute):\n",
    "    \"\"\"returns a dict of inputs partitioned by the attribute\n",
    "    each input is a pair (attribute_dict, label)\"\"\"\n",
    "    return group_by(inputs, lambda x: x[0][attribute]) \n",
    "\n",
    "def partition_entropy_by(inputs, attribute):\n",
    "    \"\"\"computes the entropy corresponding to the given partition\"\"\"        \n",
    "    partitions = partition_by(inputs, attribute)\n",
    "    return partition_entropy(partitions.values())"
   ]
  },
  {
   "cell_type": "code",
   "execution_count": 8,
   "metadata": {
    "collapsed": false
   },
   "outputs": [
    {
     "name": "stdout",
     "output_type": "stream",
     "text": [
      "outlook 0.693536138896\n",
      "temperature 0.911063393012\n",
      "humidity 0.788450457308\n",
      "wind 0.892158928262\n"
     ]
    }
   ],
   "source": [
    "for key in['outlook','temperature','humidity','wind']:\n",
    "    print key, partition_entropy_by(inputs, key)"
   ]
  },
  {
   "cell_type": "code",
   "execution_count": 9,
   "metadata": {
    "collapsed": false
   },
   "outputs": [
    {
     "name": "stdout",
     "output_type": "stream",
     "text": [
      "Sunny: temperature 0.4\n",
      "Sunny: humidity 0.0\n",
      "Sunny: wind 0.950977500433\n",
      "Overcast: temperature 0.0\n",
      "Overcast: humidity 0.0\n",
      "Overcast: wind 0.0\n",
      "Rainy: temperature 0.950977500433\n",
      "Rainy: humidity 0.950977500433\n",
      "Rainy: wind 0.0\n"
     ]
    }
   ],
   "source": [
    "senior_inputs = [(input, label) for input, label in inputs if input[\"outlook\"] == \"sunny\"]\n",
    "for key in ['temperature','humidity','wind']:\n",
    "    print 'Sunny:', key, partition_entropy_by(senior_inputs, key)\n",
    "    \n",
    "senior_inputs = [(input, label) for input, label in inputs if input[\"outlook\"] == \"overcast\"]\n",
    "for key in ['temperature','humidity','wind']:\n",
    "    print 'Overcast:', key, partition_entropy_by(senior_inputs, key)\n",
    "    \n",
    "senior_inputs = [(input, label) for input, label in inputs if input[\"outlook\"] == \"rainy\"]\n",
    "for key in ['temperature','humidity','wind']:\n",
    "    print 'Rainy:', key, partition_entropy_by(senior_inputs, key)"
   ]
  },
  {
   "cell_type": "code",
   "execution_count": 10,
   "metadata": {
    "collapsed": true
   },
   "outputs": [],
   "source": [
    "def classify(tree, input):\n",
    "    \"\"\"classify the input using the given decision tree\"\"\"\n",
    "    \n",
    "    # if this is a leaf node, return its value\n",
    "    if tree in [True, False]:\n",
    "        return tree\n",
    "   \n",
    "    # otherwise find the correct subtree\n",
    "    attribute, subtree_dict = tree\n",
    "    \n",
    "    subtree_key = input.get(attribute)  # None if input is missing attribute\n",
    "\n",
    "    if subtree_key not in subtree_dict: # if no subtree for key,\n",
    "        subtree_key = None              # we'll use the None subtree\n",
    "    \n",
    "    subtree = subtree_dict[subtree_key] # choose the appropriate subtree\n",
    "    return classify(subtree, input)     # and use it to classify the input"
   ]
  },
  {
   "cell_type": "code",
   "execution_count": 11,
   "metadata": {
    "collapsed": false
   },
   "outputs": [
    {
     "name": "stdout",
     "output_type": "stream",
     "text": [
      "building the tree\n",
      "('outlook', {None: True, 'rainy': ('wind', {'FALSE': True, None: True, 'TRUE': False}), 'overcast': True, 'sunny': ('humidity', {'high': False, None: False, 'normal': True})})\n"
     ]
    }
   ],
   "source": [
    "def build_tree_id3(inputs, split_candidates=None):\n",
    "\n",
    "    # if this is our first pass, \n",
    "    # all keys of the first input are split candidates\n",
    "    if split_candidates is None:\n",
    "        split_candidates = inputs[0][0].keys()\n",
    "\n",
    "    # count Trues and Falses in the inputs\n",
    "    num_inputs = len(inputs)\n",
    "    num_trues = len([label for item, label in inputs if label])\n",
    "    num_falses = num_inputs - num_trues\n",
    "    \n",
    "    if num_trues == 0:                  # if only Falses are left\n",
    "        return False                    # return a \"False\" leaf\n",
    "        \n",
    "    if num_falses == 0:                 # if only Trues are left\n",
    "        return True                     # return a \"True\" leaf\n",
    "\n",
    "    if not split_candidates:            # if no split candidates left\n",
    "        return num_trues >= num_falses  # return the majority leaf\n",
    "                            \n",
    "    # otherwise, split on the best attribute\n",
    "    best_attribute = min(split_candidates,\n",
    "        key=partial(partition_entropy_by, inputs))\n",
    "\n",
    "    partitions = partition_by(inputs, best_attribute)\n",
    "    new_candidates = [a for a in split_candidates \n",
    "                      if a != best_attribute]\n",
    "    \n",
    "    # recursively build the subtrees\n",
    "    subtrees = { attribute : build_tree_id3(subset, new_candidates)\n",
    "                 for attribute, subset in partitions.iteritems() }\n",
    "\n",
    "    subtrees[None] = num_trues > num_falses # default case - what to do when classifiction/data is missing\n",
    "                                            # since we have more trues than falses, it will default to true\n",
    "\n",
    "    return (best_attribute, subtrees)\n",
    "\n",
    "print \"building the tree\"\n",
    "tree = build_tree_id3(inputs)\n",
    "print tree"
   ]
  },
  {
   "cell_type": "code",
   "execution_count": 12,
   "metadata": {
    "collapsed": false
   },
   "outputs": [
    {
     "name": "stdout",
     "output_type": "stream",
     "text": [
      "['outlook', 'humidity', 'wind', 'temperature']\n",
      "9 5\n",
      "outlook\n",
      "partitions defaultdict(<type 'list'>, {'rainy': [({'outlook': 'rainy', 'humidity': 'high', 'wind': 'FALSE', 'temperature': 'mild'}, True), ({'outlook': 'rainy', 'humidity': 'normal', 'wind': 'FALSE', 'temperature': 'cool'}, True), ({'outlook': 'rainy', 'humidity': 'normal', 'wind': 'TRUE', 'temperature': 'cool'}, False), ({'outlook': 'rainy', 'humidity': 'normal', 'wind': 'FALSE', 'temperature': 'mild'}, True), ({'outlook': 'rainy', 'humidity': 'high', 'wind': 'TRUE', 'temperature': 'mild'}, False)], 'overcast': [({'outlook': 'overcast', 'humidity': 'high', 'wind': 'FALSE', 'temperature': 'hot'}, True), ({'outlook': 'overcast', 'humidity': 'normal', 'wind': 'TRUE', 'temperature': 'cool'}, True), ({'outlook': 'overcast', 'humidity': 'high', 'wind': 'TRUE', 'temperature': 'mild'}, True), ({'outlook': 'overcast', 'humidity': 'normal', 'wind': 'FALSE', 'temperature': 'hot'}, True)], 'sunny': [({'outlook': 'sunny', 'humidity': 'high', 'wind': 'FALSE', 'temperature': 'hot'}, False), ({'outlook': 'sunny', 'humidity': 'high', 'wind': 'TRUE', 'temperature': 'hot'}, False), ({'outlook': 'sunny', 'humidity': 'high', 'wind': 'FALSE', 'temperature': 'mild'}, False), ({'outlook': 'sunny', 'humidity': 'normal', 'wind': 'FALSE', 'temperature': 'cool'}, True), ({'outlook': 'sunny', 'humidity': 'normal', 'wind': 'TRUE', 'temperature': 'mild'}, True)]})\n",
      "new ['humidity', 'wind', 'temperature']\n"
     ]
    }
   ],
   "source": [
    "split_candidates = inputs[0][0].keys()\n",
    "print split_candidates\n",
    "num_inputs = len(inputs)\n",
    "num_trues = len([label for item, label in inputs if label])\n",
    "num_falses = num_inputs - num_trues\n",
    "if split_candidates:            # if no split candidates left\n",
    "    print num_trues, num_falses  # return the majority leaf\n",
    "best_attribute = min(split_candidates, key=partial(partition_entropy_by, inputs))\n",
    "print best_attribute\n",
    "partitions = partition_by(inputs, best_attribute)\n",
    "print 'partitions', partitions\n",
    "new_candidates = [a for a in split_candidates if a != best_attribute]\n",
    "print 'new', new_candidates\n"
   ]
  },
  {
   "cell_type": "raw",
   "metadata": {
    "collapsed": false
   },
   "source": [
    "outlook\n",
    "|   rainy\n",
    "|   |   wind = TRUE:       No Tennis\n",
    "|   |   wind = FALSE:      Play\n",
    "|   |   wind = unk:        Play\n",
    "|   overcast:              Play\n",
    "|   sunny\n",
    "|   |   humidity = high:   No Tennis\n",
    "|   |   humidity = normal: Play\n",
    "|   |   humidity = unk:    No Tennis\n",
    "|   unknown:               Play"
   ]
  },
  {
   "cell_type": "code",
   "execution_count": 13,
   "metadata": {
    "collapsed": false
   },
   "outputs": [
    {
     "name": "stdout",
     "output_type": "stream",
     "text": [
      " Rainy / Hot / Humid / No Wind:  True\n",
      "Rainy / Hot / Humid / Windy:  False\n"
     ]
    }
   ],
   "source": [
    "print \" Rainy / Hot / Humid / No Wind: \", classify(tree, \n",
    "     {\"outlook\" : \"rainy\", \n",
    "      \"temperature\" : \"hot\", \n",
    "      \"humidity\" : \"high\", \n",
    "      \"wind\" : \"FALSE\"}) \n",
    "\n",
    "print \"Rainy / Hot / Humid / Windy: \", classify(tree, \n",
    "     {\"outlook\" : \"rainy\", \n",
    "      \"temperature\" : \"hot\", \n",
    "      \"humidity\" : \"high\", \n",
    "      \"wind\" : \"TRUE\"}) "
   ]
  },
  {
   "cell_type": "code",
   "execution_count": 14,
   "metadata": {
    "collapsed": false
   },
   "outputs": [
    {
     "name": "stdout",
     "output_type": "stream",
     "text": [
      "Rainy:  True\n",
      "Humid:  True\n"
     ]
    }
   ],
   "source": [
    "print \"Rainy: \", classify(tree, { \"outlook\" : \"rainy\" } )\n",
    "print \"Humid: \", classify(tree, { \"Humidity\" : \"high\" } )"
   ]
  },
  {
   "cell_type": "markdown",
   "metadata": {},
   "source": [
    "__ HW4.1.1 What is the classification accuracy of the tree on the training data?__\n"
   ]
  },
  {
   "cell_type": "code",
   "execution_count": 15,
   "metadata": {
    "collapsed": false
   },
   "outputs": [
    {
     "name": "stdout",
     "output_type": "stream",
     "text": [
      "Model: False , Actual: False\n",
      "Model: False , Actual: False\n",
      "Model: True , Actual: True\n",
      "Model: True , Actual: True\n",
      "Model: True , Actual: True\n",
      "Model: False , Actual: False\n",
      "Model: True , Actual: True\n",
      "Model: False , Actual: False\n",
      "Model: True , Actual: True\n",
      "Model: True , Actual: True\n",
      "Model: True , Actual: True\n",
      "Model: True , Actual: True\n",
      "Model: True , Actual: True\n",
      "Model: False , Actual: False\n",
      "Classification Accuracy: 100.0\n"
     ]
    }
   ],
   "source": [
    "total = 0\n",
    "correct = 0\n",
    "for input in inputs:\n",
    "    print \"Model:\", classify(tree,input[0]), \", Actual:\", input[1]\n",
    "    total = total + 1\n",
    "    if classify(tree,input[0]) == input[1]:\n",
    "        correct = correct + 1\n",
    "classification_accuracy = 100*correct/total\n",
    "print 'Classification Accuracy:', classification_accuracy"
   ]
  },
  {
   "cell_type": "raw",
   "metadata": {},
   "source": [
    "The classification accuracy when using the full dataset to train is 100%"
   ]
  },
  {
   "cell_type": "markdown",
   "metadata": {},
   "source": [
    "__HW4.1.2  Is it possible to produce some set of correct training examples that will get the algorihtm\n",
    "to include the attribute Temperature in the learned tree, even though the true target concept is\n",
    "independent of Temperature? if no, explain. If yes, give such a set. __"
   ]
  },
  {
   "cell_type": "raw",
   "metadata": {
    "collapsed": true
   },
   "source": [
    "It's definitely possible but the training examples would have to all have the same outlook as to remove the value of that variable's data. In our above [inputs] dataset if created a subset where outlook = rainy, temperature should be included in split variables."
   ]
  },
  {
   "cell_type": "code",
   "execution_count": 16,
   "metadata": {
    "collapsed": false
   },
   "outputs": [
    {
     "name": "stdout",
     "output_type": "stream",
     "text": [
      "outlook 0.970950594455\n",
      "temperature 0.950977500433\n",
      "humidity 0.950977500433\n",
      "wind 0.0\n"
     ]
    }
   ],
   "source": [
    "inputs_rainy = [\n",
    "({'day':4, 'outlook':'rainy', 'temperature':'mild', 'humidity':'high', 'wind':'FALSE'}, True),\n",
    "({'day':5, 'outlook':'rainy', 'temperature':'cool', 'humidity':'normal', 'wind':'FALSE'}, True),\n",
    "({'day':6, 'outlook':'rainy', 'temperature':'cool', 'humidity':'normal', 'wind':'TRUE'}, False),\n",
    "({'day':10, 'outlook':'rainy', 'temperature':'mild', 'humidity':'normal', 'wind':'FALSE'}, True),\n",
    "({'day':14, 'outlook':'rainy', 'temperature':'mild', 'humidity':'high', 'wind':'TRUE'}, False)\n",
    "]\n",
    "\n",
    "for key in['outlook','temperature','humidity','wind']:\n",
    "    print key, partition_entropy_by(inputs_rainy, key)"
   ]
  },
  {
   "cell_type": "markdown",
   "metadata": {},
   "source": [
    "__HW4.1.3  Now, build a tree using only examples D1–D7. What is the classification accuracy for the\n",
    "training set? what is the accuracy for the test set (examples D8–D14)? explain why you think these\n",
    "are the results.__"
   ]
  },
  {
   "cell_type": "code",
   "execution_count": 17,
   "metadata": {
    "collapsed": false
   },
   "outputs": [
    {
     "name": "stdout",
     "output_type": "stream",
     "text": [
      "building the training tree\n",
      "('outlook', {None: True, 'rainy': ('wind', {'FALSE': True, None: True, 'TRUE': False}), 'overcast': True, 'sunny': False})\n",
      "Model: False , Actual: False\n",
      "Model: False , Actual: False\n",
      "Model: True , Actual: True\n",
      "Model: True , Actual: True\n",
      "Model: True , Actual: True\n",
      "Model: False , Actual: False\n",
      "Model: True , Actual: True\n",
      "Training Set Classification Accuracy: 100.0\n",
      "applying the training tree\n",
      "Model: False , Actual: False\n",
      "Model: False , Actual: True\n",
      "Model: True , Actual: True\n",
      "Model: False , Actual: True\n",
      "Model: True , Actual: True\n",
      "Model: True , Actual: True\n",
      "Model: False , Actual: False\n",
      "Test Set Classification Accuracy: 71.4285714286\n"
     ]
    }
   ],
   "source": [
    "input_train = inputs[0:7]\n",
    "\n",
    "print \"building the training tree\"\n",
    "tree2 = build_tree_id3(input_train)\n",
    "print tree2\n",
    "\n",
    "tr_total = 0\n",
    "tr_correct = 0\n",
    "for input in input_train:\n",
    "    print \"Model:\", classify(tree2,input[0]), \", Actual:\", input[1]\n",
    "    tr_total = tr_total + 1\n",
    "    if classify(tree2,input[0]) == input[1]:\n",
    "        tr_correct = tr_correct + 1\n",
    "tr_classification_accuracy = 100*tr_correct/tr_total\n",
    "print 'Training Set Classification Accuracy:', tr_classification_accuracy\n",
    "\n",
    "input_test = inputs[7:]\n",
    "print \"applying the training tree\"\n",
    "\n",
    "tst_total = 0\n",
    "tst_correct = 0\n",
    "for input in input_test:\n",
    "    print \"Model:\", classify(tree2,input[0]), \", Actual:\", input[1]\n",
    "    tst_total = tst_total + 1\n",
    "    if classify(tree2,input[0]) == input[1]:\n",
    "        tst_correct = tst_correct + 1\n",
    "tst_classification_accuracy = 100*tst_correct/tst_total\n",
    "print 'Test Set Classification Accuracy:', tst_classification_accuracy\n"
   ]
  },
  {
   "cell_type": "raw",
   "metadata": {},
   "source": [
    "These results make sense when you look at the composition of the test set versus the training set. A test set is supposed to be a representative sample of the entire population. When you look at the observations in D1-D7, you find that the combination of sunny/mild is not represented. In this case the model defaults to True (Play Tennis) if the variable is not defined in the model. It's better to build a model with all possible combinations of variables. In absence of that, if there are too many branches in the tree, you could look at pruning your model."
   ]
  },
  {
   "cell_type": "markdown",
   "metadata": {},
   "source": [
    "__HW4.1.4 In this case, and others, there are only a few labelled examples available for training (that\n",
    "is, no additional data is available for testing or validation). Suggest a concrete pruning strategy, that\n",
    "can be readily embedded in the algorithm, to avoid over fitting. Explain why you think this strategy\n",
    "should work.__"
   ]
  },
  {
   "cell_type": "raw",
   "metadata": {
    "collapsed": true
   },
   "source": [
    "While Pre-Pruning is easier, I would recommend using Post-Pruning as it works better. You would split your data into a training and test set, then build your full tree. Once that's done you would remove nodes where there's insufficient evidence for the split. Then using the validation/test set, evaluate each node to see if it performs as it did with the training set. If not, remove the subtree."
   ]
  },
  {
   "cell_type": "markdown",
   "metadata": {},
   "source": [
    " <a name=\"4.2\"></a>\n",
    " ## HW4.2 Regression Tree (OPTIONAL Homework) \n",
    " \n",
    "[Back to Table of Contents](#TOC)\n",
    "\n",
    "Implement a decision tree algorithm for regression for two input continous variables and one categorical input variable on a single core computer using Python. \n",
    "\n",
    "- Use the IRIS dataset to evaluate your code, where the input variables are: Petal.Length Petal.Width  Species  and the target or output variable is  Sepal.Length. \n",
    "- Use the same dataset to train and test your implementation. \n",
    "- Stop expanding nodes once you have less than ten (10) examples (along with the usual stopping criteria). \n",
    "- Report the mean squared error for your implementation and contrast that with the MSE from scikit-learn's implementation on this dataset (http://scikit-learn.org/stable/modules/generated/sklearn.tree.DecisionTreeRegressor.html)\n"
   ]
  },
  {
   "cell_type": "markdown",
   "metadata": {
    "collapsed": true
   },
   "source": [
    " <a name=\"4.3\"></a>\n",
    "## HW4.3 Predict survival on the Titanic using Python (Logistic regression, SVMs, Random Forests)\n",
    "\n",
    "[Back to Table of Contents](#TOC)\n",
    "\n",
    "The sinking of the RMS Titanic is one of the most infamous shipwrecks in history.  On April 15, 1912, during her maiden voyage, the Titanic sank after colliding with an iceberg, killing 1502 out of 2224 passengers and crew. This sensational tragedy shocked the international community and led to better safety regulations for ships.\n",
    "\n",
    "One of the reasons that the shipwreck led to such loss of life was that there were not enough lifeboats for the passengers and crew. Although there was some element of luck involved in surviving the sinking, some groups of people were more likely to survive than others, such as women, children, and the upper-class.\n",
    "\n",
    "In this challenge, you need to review (and edit the code) in this [notebook](http://nbviewer.jupyter.org/urls/dl.dropbox.com/s/kmbgrkhh73931lo/Titanic-EDA-LogisticRegression.ipynb) to do analysis of what sorts of people were likely to survive. In particular, please look at how the tools of machine learning are used to predict which passengers survived the tragedy. Please share any useful graphs/analysis you come up with via the group email. For example, pick the top two most important variables and plot the separating hyperplane in this 2D space that is generated using an SVM (or logistic regression model or plot both; are they similar?) that is learnt using those two features only. Comment on your observations. Please feel free to come up other graphs/analysis (e.g., clustering the passengers). \n",
    "\n",
    "For more details see:\n",
    "\n",
    "* https://www.kaggle.com/c/titanic"
   ]
  },
  {
   "cell_type": "code",
   "execution_count": 18,
   "metadata": {
    "collapsed": false
   },
   "outputs": [],
   "source": [
    "import matplotlib.pyplot as plt\n",
    "%matplotlib inline\n",
    "import numpy as np\n",
    "import pandas as pd\n",
    "import statsmodels.api as sm\n",
    "from statsmodels.nonparametric.kde import KDEUnivariate\n",
    "from statsmodels.nonparametric import smoothers_lowess\n",
    "from pandas import Series, DataFrame\n",
    "from patsy import dmatrices, ModelDesc\n",
    "from sklearn import datasets, svm\n",
    "#from KaggleAux import predict as ka # see github.com/agconti/kaggleaux for more details"
   ]
  },
  {
   "cell_type": "code",
   "execution_count": 19,
   "metadata": {
    "collapsed": false
   },
   "outputs": [
    {
     "data": {
      "text/html": [
       "<div>\n",
       "<table border=\"1\" class=\"dataframe\">\n",
       "  <thead>\n",
       "    <tr style=\"text-align: right;\">\n",
       "      <th></th>\n",
       "      <th>PassengerId</th>\n",
       "      <th>Survived</th>\n",
       "      <th>Pclass</th>\n",
       "      <th>Name</th>\n",
       "      <th>Sex</th>\n",
       "      <th>Age</th>\n",
       "      <th>SibSp</th>\n",
       "      <th>Parch</th>\n",
       "      <th>Ticket</th>\n",
       "      <th>Fare</th>\n",
       "      <th>Cabin</th>\n",
       "      <th>Embarked</th>\n",
       "    </tr>\n",
       "  </thead>\n",
       "  <tbody>\n",
       "    <tr>\n",
       "      <th>0</th>\n",
       "      <td>1</td>\n",
       "      <td>0</td>\n",
       "      <td>3</td>\n",
       "      <td>Braund, Mr. Owen Harris</td>\n",
       "      <td>male</td>\n",
       "      <td>22.0</td>\n",
       "      <td>1</td>\n",
       "      <td>0</td>\n",
       "      <td>A/5 21171</td>\n",
       "      <td>7.2500</td>\n",
       "      <td>NaN</td>\n",
       "      <td>S</td>\n",
       "    </tr>\n",
       "    <tr>\n",
       "      <th>1</th>\n",
       "      <td>2</td>\n",
       "      <td>1</td>\n",
       "      <td>1</td>\n",
       "      <td>Cumings, Mrs. John Bradley (Florence Briggs Th...</td>\n",
       "      <td>female</td>\n",
       "      <td>38.0</td>\n",
       "      <td>1</td>\n",
       "      <td>0</td>\n",
       "      <td>PC 17599</td>\n",
       "      <td>71.2833</td>\n",
       "      <td>C85</td>\n",
       "      <td>C</td>\n",
       "    </tr>\n",
       "    <tr>\n",
       "      <th>2</th>\n",
       "      <td>3</td>\n",
       "      <td>1</td>\n",
       "      <td>3</td>\n",
       "      <td>Heikkinen, Miss. Laina</td>\n",
       "      <td>female</td>\n",
       "      <td>26.0</td>\n",
       "      <td>0</td>\n",
       "      <td>0</td>\n",
       "      <td>STON/O2. 3101282</td>\n",
       "      <td>7.9250</td>\n",
       "      <td>NaN</td>\n",
       "      <td>S</td>\n",
       "    </tr>\n",
       "    <tr>\n",
       "      <th>3</th>\n",
       "      <td>4</td>\n",
       "      <td>1</td>\n",
       "      <td>1</td>\n",
       "      <td>Futrelle, Mrs. Jacques Heath (Lily May Peel)</td>\n",
       "      <td>female</td>\n",
       "      <td>35.0</td>\n",
       "      <td>1</td>\n",
       "      <td>0</td>\n",
       "      <td>113803</td>\n",
       "      <td>53.1000</td>\n",
       "      <td>C123</td>\n",
       "      <td>S</td>\n",
       "    </tr>\n",
       "    <tr>\n",
       "      <th>4</th>\n",
       "      <td>5</td>\n",
       "      <td>0</td>\n",
       "      <td>3</td>\n",
       "      <td>Allen, Mr. William Henry</td>\n",
       "      <td>male</td>\n",
       "      <td>35.0</td>\n",
       "      <td>0</td>\n",
       "      <td>0</td>\n",
       "      <td>373450</td>\n",
       "      <td>8.0500</td>\n",
       "      <td>NaN</td>\n",
       "      <td>S</td>\n",
       "    </tr>\n",
       "    <tr>\n",
       "      <th>5</th>\n",
       "      <td>6</td>\n",
       "      <td>0</td>\n",
       "      <td>3</td>\n",
       "      <td>Moran, Mr. James</td>\n",
       "      <td>male</td>\n",
       "      <td>NaN</td>\n",
       "      <td>0</td>\n",
       "      <td>0</td>\n",
       "      <td>330877</td>\n",
       "      <td>8.4583</td>\n",
       "      <td>NaN</td>\n",
       "      <td>Q</td>\n",
       "    </tr>\n",
       "    <tr>\n",
       "      <th>6</th>\n",
       "      <td>7</td>\n",
       "      <td>0</td>\n",
       "      <td>1</td>\n",
       "      <td>McCarthy, Mr. Timothy J</td>\n",
       "      <td>male</td>\n",
       "      <td>54.0</td>\n",
       "      <td>0</td>\n",
       "      <td>0</td>\n",
       "      <td>17463</td>\n",
       "      <td>51.8625</td>\n",
       "      <td>E46</td>\n",
       "      <td>S</td>\n",
       "    </tr>\n",
       "    <tr>\n",
       "      <th>7</th>\n",
       "      <td>8</td>\n",
       "      <td>0</td>\n",
       "      <td>3</td>\n",
       "      <td>Palsson, Master. Gosta Leonard</td>\n",
       "      <td>male</td>\n",
       "      <td>2.0</td>\n",
       "      <td>3</td>\n",
       "      <td>1</td>\n",
       "      <td>349909</td>\n",
       "      <td>21.0750</td>\n",
       "      <td>NaN</td>\n",
       "      <td>S</td>\n",
       "    </tr>\n",
       "    <tr>\n",
       "      <th>8</th>\n",
       "      <td>9</td>\n",
       "      <td>1</td>\n",
       "      <td>3</td>\n",
       "      <td>Johnson, Mrs. Oscar W (Elisabeth Vilhelmina Berg)</td>\n",
       "      <td>female</td>\n",
       "      <td>27.0</td>\n",
       "      <td>0</td>\n",
       "      <td>2</td>\n",
       "      <td>347742</td>\n",
       "      <td>11.1333</td>\n",
       "      <td>NaN</td>\n",
       "      <td>S</td>\n",
       "    </tr>\n",
       "    <tr>\n",
       "      <th>9</th>\n",
       "      <td>10</td>\n",
       "      <td>1</td>\n",
       "      <td>2</td>\n",
       "      <td>Nasser, Mrs. Nicholas (Adele Achem)</td>\n",
       "      <td>female</td>\n",
       "      <td>14.0</td>\n",
       "      <td>1</td>\n",
       "      <td>0</td>\n",
       "      <td>237736</td>\n",
       "      <td>30.0708</td>\n",
       "      <td>NaN</td>\n",
       "      <td>C</td>\n",
       "    </tr>\n",
       "    <tr>\n",
       "      <th>10</th>\n",
       "      <td>11</td>\n",
       "      <td>1</td>\n",
       "      <td>3</td>\n",
       "      <td>Sandstrom, Miss. Marguerite Rut</td>\n",
       "      <td>female</td>\n",
       "      <td>4.0</td>\n",
       "      <td>1</td>\n",
       "      <td>1</td>\n",
       "      <td>PP 9549</td>\n",
       "      <td>16.7000</td>\n",
       "      <td>G6</td>\n",
       "      <td>S</td>\n",
       "    </tr>\n",
       "    <tr>\n",
       "      <th>11</th>\n",
       "      <td>12</td>\n",
       "      <td>1</td>\n",
       "      <td>1</td>\n",
       "      <td>Bonnell, Miss. Elizabeth</td>\n",
       "      <td>female</td>\n",
       "      <td>58.0</td>\n",
       "      <td>0</td>\n",
       "      <td>0</td>\n",
       "      <td>113783</td>\n",
       "      <td>26.5500</td>\n",
       "      <td>C103</td>\n",
       "      <td>S</td>\n",
       "    </tr>\n",
       "    <tr>\n",
       "      <th>12</th>\n",
       "      <td>13</td>\n",
       "      <td>0</td>\n",
       "      <td>3</td>\n",
       "      <td>Saundercock, Mr. William Henry</td>\n",
       "      <td>male</td>\n",
       "      <td>20.0</td>\n",
       "      <td>0</td>\n",
       "      <td>0</td>\n",
       "      <td>A/5. 2151</td>\n",
       "      <td>8.0500</td>\n",
       "      <td>NaN</td>\n",
       "      <td>S</td>\n",
       "    </tr>\n",
       "    <tr>\n",
       "      <th>13</th>\n",
       "      <td>14</td>\n",
       "      <td>0</td>\n",
       "      <td>3</td>\n",
       "      <td>Andersson, Mr. Anders Johan</td>\n",
       "      <td>male</td>\n",
       "      <td>39.0</td>\n",
       "      <td>1</td>\n",
       "      <td>5</td>\n",
       "      <td>347082</td>\n",
       "      <td>31.2750</td>\n",
       "      <td>NaN</td>\n",
       "      <td>S</td>\n",
       "    </tr>\n",
       "    <tr>\n",
       "      <th>14</th>\n",
       "      <td>15</td>\n",
       "      <td>0</td>\n",
       "      <td>3</td>\n",
       "      <td>Vestrom, Miss. Hulda Amanda Adolfina</td>\n",
       "      <td>female</td>\n",
       "      <td>14.0</td>\n",
       "      <td>0</td>\n",
       "      <td>0</td>\n",
       "      <td>350406</td>\n",
       "      <td>7.8542</td>\n",
       "      <td>NaN</td>\n",
       "      <td>S</td>\n",
       "    </tr>\n",
       "    <tr>\n",
       "      <th>15</th>\n",
       "      <td>16</td>\n",
       "      <td>1</td>\n",
       "      <td>2</td>\n",
       "      <td>Hewlett, Mrs. (Mary D Kingcome)</td>\n",
       "      <td>female</td>\n",
       "      <td>55.0</td>\n",
       "      <td>0</td>\n",
       "      <td>0</td>\n",
       "      <td>248706</td>\n",
       "      <td>16.0000</td>\n",
       "      <td>NaN</td>\n",
       "      <td>S</td>\n",
       "    </tr>\n",
       "    <tr>\n",
       "      <th>16</th>\n",
       "      <td>17</td>\n",
       "      <td>0</td>\n",
       "      <td>3</td>\n",
       "      <td>Rice, Master. Eugene</td>\n",
       "      <td>male</td>\n",
       "      <td>2.0</td>\n",
       "      <td>4</td>\n",
       "      <td>1</td>\n",
       "      <td>382652</td>\n",
       "      <td>29.1250</td>\n",
       "      <td>NaN</td>\n",
       "      <td>Q</td>\n",
       "    </tr>\n",
       "    <tr>\n",
       "      <th>17</th>\n",
       "      <td>18</td>\n",
       "      <td>1</td>\n",
       "      <td>2</td>\n",
       "      <td>Williams, Mr. Charles Eugene</td>\n",
       "      <td>male</td>\n",
       "      <td>NaN</td>\n",
       "      <td>0</td>\n",
       "      <td>0</td>\n",
       "      <td>244373</td>\n",
       "      <td>13.0000</td>\n",
       "      <td>NaN</td>\n",
       "      <td>S</td>\n",
       "    </tr>\n",
       "    <tr>\n",
       "      <th>18</th>\n",
       "      <td>19</td>\n",
       "      <td>0</td>\n",
       "      <td>3</td>\n",
       "      <td>Vander Planke, Mrs. Julius (Emelia Maria Vande...</td>\n",
       "      <td>female</td>\n",
       "      <td>31.0</td>\n",
       "      <td>1</td>\n",
       "      <td>0</td>\n",
       "      <td>345763</td>\n",
       "      <td>18.0000</td>\n",
       "      <td>NaN</td>\n",
       "      <td>S</td>\n",
       "    </tr>\n",
       "    <tr>\n",
       "      <th>19</th>\n",
       "      <td>20</td>\n",
       "      <td>1</td>\n",
       "      <td>3</td>\n",
       "      <td>Masselmani, Mrs. Fatima</td>\n",
       "      <td>female</td>\n",
       "      <td>NaN</td>\n",
       "      <td>0</td>\n",
       "      <td>0</td>\n",
       "      <td>2649</td>\n",
       "      <td>7.2250</td>\n",
       "      <td>NaN</td>\n",
       "      <td>C</td>\n",
       "    </tr>\n",
       "    <tr>\n",
       "      <th>20</th>\n",
       "      <td>21</td>\n",
       "      <td>0</td>\n",
       "      <td>2</td>\n",
       "      <td>Fynney, Mr. Joseph J</td>\n",
       "      <td>male</td>\n",
       "      <td>35.0</td>\n",
       "      <td>0</td>\n",
       "      <td>0</td>\n",
       "      <td>239865</td>\n",
       "      <td>26.0000</td>\n",
       "      <td>NaN</td>\n",
       "      <td>S</td>\n",
       "    </tr>\n",
       "    <tr>\n",
       "      <th>21</th>\n",
       "      <td>22</td>\n",
       "      <td>1</td>\n",
       "      <td>2</td>\n",
       "      <td>Beesley, Mr. Lawrence</td>\n",
       "      <td>male</td>\n",
       "      <td>34.0</td>\n",
       "      <td>0</td>\n",
       "      <td>0</td>\n",
       "      <td>248698</td>\n",
       "      <td>13.0000</td>\n",
       "      <td>D56</td>\n",
       "      <td>S</td>\n",
       "    </tr>\n",
       "    <tr>\n",
       "      <th>22</th>\n",
       "      <td>23</td>\n",
       "      <td>1</td>\n",
       "      <td>3</td>\n",
       "      <td>McGowan, Miss. Anna \"Annie\"</td>\n",
       "      <td>female</td>\n",
       "      <td>15.0</td>\n",
       "      <td>0</td>\n",
       "      <td>0</td>\n",
       "      <td>330923</td>\n",
       "      <td>8.0292</td>\n",
       "      <td>NaN</td>\n",
       "      <td>Q</td>\n",
       "    </tr>\n",
       "    <tr>\n",
       "      <th>23</th>\n",
       "      <td>24</td>\n",
       "      <td>1</td>\n",
       "      <td>1</td>\n",
       "      <td>Sloper, Mr. William Thompson</td>\n",
       "      <td>male</td>\n",
       "      <td>28.0</td>\n",
       "      <td>0</td>\n",
       "      <td>0</td>\n",
       "      <td>113788</td>\n",
       "      <td>35.5000</td>\n",
       "      <td>A6</td>\n",
       "      <td>S</td>\n",
       "    </tr>\n",
       "    <tr>\n",
       "      <th>24</th>\n",
       "      <td>25</td>\n",
       "      <td>0</td>\n",
       "      <td>3</td>\n",
       "      <td>Palsson, Miss. Torborg Danira</td>\n",
       "      <td>female</td>\n",
       "      <td>8.0</td>\n",
       "      <td>3</td>\n",
       "      <td>1</td>\n",
       "      <td>349909</td>\n",
       "      <td>21.0750</td>\n",
       "      <td>NaN</td>\n",
       "      <td>S</td>\n",
       "    </tr>\n",
       "    <tr>\n",
       "      <th>25</th>\n",
       "      <td>26</td>\n",
       "      <td>1</td>\n",
       "      <td>3</td>\n",
       "      <td>Asplund, Mrs. Carl Oscar (Selma Augusta Emilia...</td>\n",
       "      <td>female</td>\n",
       "      <td>38.0</td>\n",
       "      <td>1</td>\n",
       "      <td>5</td>\n",
       "      <td>347077</td>\n",
       "      <td>31.3875</td>\n",
       "      <td>NaN</td>\n",
       "      <td>S</td>\n",
       "    </tr>\n",
       "    <tr>\n",
       "      <th>26</th>\n",
       "      <td>27</td>\n",
       "      <td>0</td>\n",
       "      <td>3</td>\n",
       "      <td>Emir, Mr. Farred Chehab</td>\n",
       "      <td>male</td>\n",
       "      <td>NaN</td>\n",
       "      <td>0</td>\n",
       "      <td>0</td>\n",
       "      <td>2631</td>\n",
       "      <td>7.2250</td>\n",
       "      <td>NaN</td>\n",
       "      <td>C</td>\n",
       "    </tr>\n",
       "    <tr>\n",
       "      <th>27</th>\n",
       "      <td>28</td>\n",
       "      <td>0</td>\n",
       "      <td>1</td>\n",
       "      <td>Fortune, Mr. Charles Alexander</td>\n",
       "      <td>male</td>\n",
       "      <td>19.0</td>\n",
       "      <td>3</td>\n",
       "      <td>2</td>\n",
       "      <td>19950</td>\n",
       "      <td>263.0000</td>\n",
       "      <td>C23 C25 C27</td>\n",
       "      <td>S</td>\n",
       "    </tr>\n",
       "    <tr>\n",
       "      <th>28</th>\n",
       "      <td>29</td>\n",
       "      <td>1</td>\n",
       "      <td>3</td>\n",
       "      <td>O'Dwyer, Miss. Ellen \"Nellie\"</td>\n",
       "      <td>female</td>\n",
       "      <td>NaN</td>\n",
       "      <td>0</td>\n",
       "      <td>0</td>\n",
       "      <td>330959</td>\n",
       "      <td>7.8792</td>\n",
       "      <td>NaN</td>\n",
       "      <td>Q</td>\n",
       "    </tr>\n",
       "    <tr>\n",
       "      <th>29</th>\n",
       "      <td>30</td>\n",
       "      <td>0</td>\n",
       "      <td>3</td>\n",
       "      <td>Todoroff, Mr. Lalio</td>\n",
       "      <td>male</td>\n",
       "      <td>NaN</td>\n",
       "      <td>0</td>\n",
       "      <td>0</td>\n",
       "      <td>349216</td>\n",
       "      <td>7.8958</td>\n",
       "      <td>NaN</td>\n",
       "      <td>S</td>\n",
       "    </tr>\n",
       "    <tr>\n",
       "      <th>...</th>\n",
       "      <td>...</td>\n",
       "      <td>...</td>\n",
       "      <td>...</td>\n",
       "      <td>...</td>\n",
       "      <td>...</td>\n",
       "      <td>...</td>\n",
       "      <td>...</td>\n",
       "      <td>...</td>\n",
       "      <td>...</td>\n",
       "      <td>...</td>\n",
       "      <td>...</td>\n",
       "      <td>...</td>\n",
       "    </tr>\n",
       "    <tr>\n",
       "      <th>861</th>\n",
       "      <td>862</td>\n",
       "      <td>0</td>\n",
       "      <td>2</td>\n",
       "      <td>Giles, Mr. Frederick Edward</td>\n",
       "      <td>male</td>\n",
       "      <td>21.0</td>\n",
       "      <td>1</td>\n",
       "      <td>0</td>\n",
       "      <td>28134</td>\n",
       "      <td>11.5000</td>\n",
       "      <td>NaN</td>\n",
       "      <td>S</td>\n",
       "    </tr>\n",
       "    <tr>\n",
       "      <th>862</th>\n",
       "      <td>863</td>\n",
       "      <td>1</td>\n",
       "      <td>1</td>\n",
       "      <td>Swift, Mrs. Frederick Joel (Margaret Welles Ba...</td>\n",
       "      <td>female</td>\n",
       "      <td>48.0</td>\n",
       "      <td>0</td>\n",
       "      <td>0</td>\n",
       "      <td>17466</td>\n",
       "      <td>25.9292</td>\n",
       "      <td>D17</td>\n",
       "      <td>S</td>\n",
       "    </tr>\n",
       "    <tr>\n",
       "      <th>863</th>\n",
       "      <td>864</td>\n",
       "      <td>0</td>\n",
       "      <td>3</td>\n",
       "      <td>Sage, Miss. Dorothy Edith \"Dolly\"</td>\n",
       "      <td>female</td>\n",
       "      <td>NaN</td>\n",
       "      <td>8</td>\n",
       "      <td>2</td>\n",
       "      <td>CA. 2343</td>\n",
       "      <td>69.5500</td>\n",
       "      <td>NaN</td>\n",
       "      <td>S</td>\n",
       "    </tr>\n",
       "    <tr>\n",
       "      <th>864</th>\n",
       "      <td>865</td>\n",
       "      <td>0</td>\n",
       "      <td>2</td>\n",
       "      <td>Gill, Mr. John William</td>\n",
       "      <td>male</td>\n",
       "      <td>24.0</td>\n",
       "      <td>0</td>\n",
       "      <td>0</td>\n",
       "      <td>233866</td>\n",
       "      <td>13.0000</td>\n",
       "      <td>NaN</td>\n",
       "      <td>S</td>\n",
       "    </tr>\n",
       "    <tr>\n",
       "      <th>865</th>\n",
       "      <td>866</td>\n",
       "      <td>1</td>\n",
       "      <td>2</td>\n",
       "      <td>Bystrom, Mrs. (Karolina)</td>\n",
       "      <td>female</td>\n",
       "      <td>42.0</td>\n",
       "      <td>0</td>\n",
       "      <td>0</td>\n",
       "      <td>236852</td>\n",
       "      <td>13.0000</td>\n",
       "      <td>NaN</td>\n",
       "      <td>S</td>\n",
       "    </tr>\n",
       "    <tr>\n",
       "      <th>866</th>\n",
       "      <td>867</td>\n",
       "      <td>1</td>\n",
       "      <td>2</td>\n",
       "      <td>Duran y More, Miss. Asuncion</td>\n",
       "      <td>female</td>\n",
       "      <td>27.0</td>\n",
       "      <td>1</td>\n",
       "      <td>0</td>\n",
       "      <td>SC/PARIS 2149</td>\n",
       "      <td>13.8583</td>\n",
       "      <td>NaN</td>\n",
       "      <td>C</td>\n",
       "    </tr>\n",
       "    <tr>\n",
       "      <th>867</th>\n",
       "      <td>868</td>\n",
       "      <td>0</td>\n",
       "      <td>1</td>\n",
       "      <td>Roebling, Mr. Washington Augustus II</td>\n",
       "      <td>male</td>\n",
       "      <td>31.0</td>\n",
       "      <td>0</td>\n",
       "      <td>0</td>\n",
       "      <td>PC 17590</td>\n",
       "      <td>50.4958</td>\n",
       "      <td>A24</td>\n",
       "      <td>S</td>\n",
       "    </tr>\n",
       "    <tr>\n",
       "      <th>868</th>\n",
       "      <td>869</td>\n",
       "      <td>0</td>\n",
       "      <td>3</td>\n",
       "      <td>van Melkebeke, Mr. Philemon</td>\n",
       "      <td>male</td>\n",
       "      <td>NaN</td>\n",
       "      <td>0</td>\n",
       "      <td>0</td>\n",
       "      <td>345777</td>\n",
       "      <td>9.5000</td>\n",
       "      <td>NaN</td>\n",
       "      <td>S</td>\n",
       "    </tr>\n",
       "    <tr>\n",
       "      <th>869</th>\n",
       "      <td>870</td>\n",
       "      <td>1</td>\n",
       "      <td>3</td>\n",
       "      <td>Johnson, Master. Harold Theodor</td>\n",
       "      <td>male</td>\n",
       "      <td>4.0</td>\n",
       "      <td>1</td>\n",
       "      <td>1</td>\n",
       "      <td>347742</td>\n",
       "      <td>11.1333</td>\n",
       "      <td>NaN</td>\n",
       "      <td>S</td>\n",
       "    </tr>\n",
       "    <tr>\n",
       "      <th>870</th>\n",
       "      <td>871</td>\n",
       "      <td>0</td>\n",
       "      <td>3</td>\n",
       "      <td>Balkic, Mr. Cerin</td>\n",
       "      <td>male</td>\n",
       "      <td>26.0</td>\n",
       "      <td>0</td>\n",
       "      <td>0</td>\n",
       "      <td>349248</td>\n",
       "      <td>7.8958</td>\n",
       "      <td>NaN</td>\n",
       "      <td>S</td>\n",
       "    </tr>\n",
       "    <tr>\n",
       "      <th>871</th>\n",
       "      <td>872</td>\n",
       "      <td>1</td>\n",
       "      <td>1</td>\n",
       "      <td>Beckwith, Mrs. Richard Leonard (Sallie Monypeny)</td>\n",
       "      <td>female</td>\n",
       "      <td>47.0</td>\n",
       "      <td>1</td>\n",
       "      <td>1</td>\n",
       "      <td>11751</td>\n",
       "      <td>52.5542</td>\n",
       "      <td>D35</td>\n",
       "      <td>S</td>\n",
       "    </tr>\n",
       "    <tr>\n",
       "      <th>872</th>\n",
       "      <td>873</td>\n",
       "      <td>0</td>\n",
       "      <td>1</td>\n",
       "      <td>Carlsson, Mr. Frans Olof</td>\n",
       "      <td>male</td>\n",
       "      <td>33.0</td>\n",
       "      <td>0</td>\n",
       "      <td>0</td>\n",
       "      <td>695</td>\n",
       "      <td>5.0000</td>\n",
       "      <td>B51 B53 B55</td>\n",
       "      <td>S</td>\n",
       "    </tr>\n",
       "    <tr>\n",
       "      <th>873</th>\n",
       "      <td>874</td>\n",
       "      <td>0</td>\n",
       "      <td>3</td>\n",
       "      <td>Vander Cruyssen, Mr. Victor</td>\n",
       "      <td>male</td>\n",
       "      <td>47.0</td>\n",
       "      <td>0</td>\n",
       "      <td>0</td>\n",
       "      <td>345765</td>\n",
       "      <td>9.0000</td>\n",
       "      <td>NaN</td>\n",
       "      <td>S</td>\n",
       "    </tr>\n",
       "    <tr>\n",
       "      <th>874</th>\n",
       "      <td>875</td>\n",
       "      <td>1</td>\n",
       "      <td>2</td>\n",
       "      <td>Abelson, Mrs. Samuel (Hannah Wizosky)</td>\n",
       "      <td>female</td>\n",
       "      <td>28.0</td>\n",
       "      <td>1</td>\n",
       "      <td>0</td>\n",
       "      <td>P/PP 3381</td>\n",
       "      <td>24.0000</td>\n",
       "      <td>NaN</td>\n",
       "      <td>C</td>\n",
       "    </tr>\n",
       "    <tr>\n",
       "      <th>875</th>\n",
       "      <td>876</td>\n",
       "      <td>1</td>\n",
       "      <td>3</td>\n",
       "      <td>Najib, Miss. Adele Kiamie \"Jane\"</td>\n",
       "      <td>female</td>\n",
       "      <td>15.0</td>\n",
       "      <td>0</td>\n",
       "      <td>0</td>\n",
       "      <td>2667</td>\n",
       "      <td>7.2250</td>\n",
       "      <td>NaN</td>\n",
       "      <td>C</td>\n",
       "    </tr>\n",
       "    <tr>\n",
       "      <th>876</th>\n",
       "      <td>877</td>\n",
       "      <td>0</td>\n",
       "      <td>3</td>\n",
       "      <td>Gustafsson, Mr. Alfred Ossian</td>\n",
       "      <td>male</td>\n",
       "      <td>20.0</td>\n",
       "      <td>0</td>\n",
       "      <td>0</td>\n",
       "      <td>7534</td>\n",
       "      <td>9.8458</td>\n",
       "      <td>NaN</td>\n",
       "      <td>S</td>\n",
       "    </tr>\n",
       "    <tr>\n",
       "      <th>877</th>\n",
       "      <td>878</td>\n",
       "      <td>0</td>\n",
       "      <td>3</td>\n",
       "      <td>Petroff, Mr. Nedelio</td>\n",
       "      <td>male</td>\n",
       "      <td>19.0</td>\n",
       "      <td>0</td>\n",
       "      <td>0</td>\n",
       "      <td>349212</td>\n",
       "      <td>7.8958</td>\n",
       "      <td>NaN</td>\n",
       "      <td>S</td>\n",
       "    </tr>\n",
       "    <tr>\n",
       "      <th>878</th>\n",
       "      <td>879</td>\n",
       "      <td>0</td>\n",
       "      <td>3</td>\n",
       "      <td>Laleff, Mr. Kristo</td>\n",
       "      <td>male</td>\n",
       "      <td>NaN</td>\n",
       "      <td>0</td>\n",
       "      <td>0</td>\n",
       "      <td>349217</td>\n",
       "      <td>7.8958</td>\n",
       "      <td>NaN</td>\n",
       "      <td>S</td>\n",
       "    </tr>\n",
       "    <tr>\n",
       "      <th>879</th>\n",
       "      <td>880</td>\n",
       "      <td>1</td>\n",
       "      <td>1</td>\n",
       "      <td>Potter, Mrs. Thomas Jr (Lily Alexenia Wilson)</td>\n",
       "      <td>female</td>\n",
       "      <td>56.0</td>\n",
       "      <td>0</td>\n",
       "      <td>1</td>\n",
       "      <td>11767</td>\n",
       "      <td>83.1583</td>\n",
       "      <td>C50</td>\n",
       "      <td>C</td>\n",
       "    </tr>\n",
       "    <tr>\n",
       "      <th>880</th>\n",
       "      <td>881</td>\n",
       "      <td>1</td>\n",
       "      <td>2</td>\n",
       "      <td>Shelley, Mrs. William (Imanita Parrish Hall)</td>\n",
       "      <td>female</td>\n",
       "      <td>25.0</td>\n",
       "      <td>0</td>\n",
       "      <td>1</td>\n",
       "      <td>230433</td>\n",
       "      <td>26.0000</td>\n",
       "      <td>NaN</td>\n",
       "      <td>S</td>\n",
       "    </tr>\n",
       "    <tr>\n",
       "      <th>881</th>\n",
       "      <td>882</td>\n",
       "      <td>0</td>\n",
       "      <td>3</td>\n",
       "      <td>Markun, Mr. Johann</td>\n",
       "      <td>male</td>\n",
       "      <td>33.0</td>\n",
       "      <td>0</td>\n",
       "      <td>0</td>\n",
       "      <td>349257</td>\n",
       "      <td>7.8958</td>\n",
       "      <td>NaN</td>\n",
       "      <td>S</td>\n",
       "    </tr>\n",
       "    <tr>\n",
       "      <th>882</th>\n",
       "      <td>883</td>\n",
       "      <td>0</td>\n",
       "      <td>3</td>\n",
       "      <td>Dahlberg, Miss. Gerda Ulrika</td>\n",
       "      <td>female</td>\n",
       "      <td>22.0</td>\n",
       "      <td>0</td>\n",
       "      <td>0</td>\n",
       "      <td>7552</td>\n",
       "      <td>10.5167</td>\n",
       "      <td>NaN</td>\n",
       "      <td>S</td>\n",
       "    </tr>\n",
       "    <tr>\n",
       "      <th>883</th>\n",
       "      <td>884</td>\n",
       "      <td>0</td>\n",
       "      <td>2</td>\n",
       "      <td>Banfield, Mr. Frederick James</td>\n",
       "      <td>male</td>\n",
       "      <td>28.0</td>\n",
       "      <td>0</td>\n",
       "      <td>0</td>\n",
       "      <td>C.A./SOTON 34068</td>\n",
       "      <td>10.5000</td>\n",
       "      <td>NaN</td>\n",
       "      <td>S</td>\n",
       "    </tr>\n",
       "    <tr>\n",
       "      <th>884</th>\n",
       "      <td>885</td>\n",
       "      <td>0</td>\n",
       "      <td>3</td>\n",
       "      <td>Sutehall, Mr. Henry Jr</td>\n",
       "      <td>male</td>\n",
       "      <td>25.0</td>\n",
       "      <td>0</td>\n",
       "      <td>0</td>\n",
       "      <td>SOTON/OQ 392076</td>\n",
       "      <td>7.0500</td>\n",
       "      <td>NaN</td>\n",
       "      <td>S</td>\n",
       "    </tr>\n",
       "    <tr>\n",
       "      <th>885</th>\n",
       "      <td>886</td>\n",
       "      <td>0</td>\n",
       "      <td>3</td>\n",
       "      <td>Rice, Mrs. William (Margaret Norton)</td>\n",
       "      <td>female</td>\n",
       "      <td>39.0</td>\n",
       "      <td>0</td>\n",
       "      <td>5</td>\n",
       "      <td>382652</td>\n",
       "      <td>29.1250</td>\n",
       "      <td>NaN</td>\n",
       "      <td>Q</td>\n",
       "    </tr>\n",
       "    <tr>\n",
       "      <th>886</th>\n",
       "      <td>887</td>\n",
       "      <td>0</td>\n",
       "      <td>2</td>\n",
       "      <td>Montvila, Rev. Juozas</td>\n",
       "      <td>male</td>\n",
       "      <td>27.0</td>\n",
       "      <td>0</td>\n",
       "      <td>0</td>\n",
       "      <td>211536</td>\n",
       "      <td>13.0000</td>\n",
       "      <td>NaN</td>\n",
       "      <td>S</td>\n",
       "    </tr>\n",
       "    <tr>\n",
       "      <th>887</th>\n",
       "      <td>888</td>\n",
       "      <td>1</td>\n",
       "      <td>1</td>\n",
       "      <td>Graham, Miss. Margaret Edith</td>\n",
       "      <td>female</td>\n",
       "      <td>19.0</td>\n",
       "      <td>0</td>\n",
       "      <td>0</td>\n",
       "      <td>112053</td>\n",
       "      <td>30.0000</td>\n",
       "      <td>B42</td>\n",
       "      <td>S</td>\n",
       "    </tr>\n",
       "    <tr>\n",
       "      <th>888</th>\n",
       "      <td>889</td>\n",
       "      <td>0</td>\n",
       "      <td>3</td>\n",
       "      <td>Johnston, Miss. Catherine Helen \"Carrie\"</td>\n",
       "      <td>female</td>\n",
       "      <td>NaN</td>\n",
       "      <td>1</td>\n",
       "      <td>2</td>\n",
       "      <td>W./C. 6607</td>\n",
       "      <td>23.4500</td>\n",
       "      <td>NaN</td>\n",
       "      <td>S</td>\n",
       "    </tr>\n",
       "    <tr>\n",
       "      <th>889</th>\n",
       "      <td>890</td>\n",
       "      <td>1</td>\n",
       "      <td>1</td>\n",
       "      <td>Behr, Mr. Karl Howell</td>\n",
       "      <td>male</td>\n",
       "      <td>26.0</td>\n",
       "      <td>0</td>\n",
       "      <td>0</td>\n",
       "      <td>111369</td>\n",
       "      <td>30.0000</td>\n",
       "      <td>C148</td>\n",
       "      <td>C</td>\n",
       "    </tr>\n",
       "    <tr>\n",
       "      <th>890</th>\n",
       "      <td>891</td>\n",
       "      <td>0</td>\n",
       "      <td>3</td>\n",
       "      <td>Dooley, Mr. Patrick</td>\n",
       "      <td>male</td>\n",
       "      <td>32.0</td>\n",
       "      <td>0</td>\n",
       "      <td>0</td>\n",
       "      <td>370376</td>\n",
       "      <td>7.7500</td>\n",
       "      <td>NaN</td>\n",
       "      <td>Q</td>\n",
       "    </tr>\n",
       "  </tbody>\n",
       "</table>\n",
       "<p>891 rows × 12 columns</p>\n",
       "</div>"
      ],
      "text/plain": [
       "     PassengerId  Survived  Pclass  \\\n",
       "0              1         0       3   \n",
       "1              2         1       1   \n",
       "2              3         1       3   \n",
       "3              4         1       1   \n",
       "4              5         0       3   \n",
       "5              6         0       3   \n",
       "6              7         0       1   \n",
       "7              8         0       3   \n",
       "8              9         1       3   \n",
       "9             10         1       2   \n",
       "10            11         1       3   \n",
       "11            12         1       1   \n",
       "12            13         0       3   \n",
       "13            14         0       3   \n",
       "14            15         0       3   \n",
       "15            16         1       2   \n",
       "16            17         0       3   \n",
       "17            18         1       2   \n",
       "18            19         0       3   \n",
       "19            20         1       3   \n",
       "20            21         0       2   \n",
       "21            22         1       2   \n",
       "22            23         1       3   \n",
       "23            24         1       1   \n",
       "24            25         0       3   \n",
       "25            26         1       3   \n",
       "26            27         0       3   \n",
       "27            28         0       1   \n",
       "28            29         1       3   \n",
       "29            30         0       3   \n",
       "..           ...       ...     ...   \n",
       "861          862         0       2   \n",
       "862          863         1       1   \n",
       "863          864         0       3   \n",
       "864          865         0       2   \n",
       "865          866         1       2   \n",
       "866          867         1       2   \n",
       "867          868         0       1   \n",
       "868          869         0       3   \n",
       "869          870         1       3   \n",
       "870          871         0       3   \n",
       "871          872         1       1   \n",
       "872          873         0       1   \n",
       "873          874         0       3   \n",
       "874          875         1       2   \n",
       "875          876         1       3   \n",
       "876          877         0       3   \n",
       "877          878         0       3   \n",
       "878          879         0       3   \n",
       "879          880         1       1   \n",
       "880          881         1       2   \n",
       "881          882         0       3   \n",
       "882          883         0       3   \n",
       "883          884         0       2   \n",
       "884          885         0       3   \n",
       "885          886         0       3   \n",
       "886          887         0       2   \n",
       "887          888         1       1   \n",
       "888          889         0       3   \n",
       "889          890         1       1   \n",
       "890          891         0       3   \n",
       "\n",
       "                                                  Name     Sex   Age  SibSp  \\\n",
       "0                              Braund, Mr. Owen Harris    male  22.0      1   \n",
       "1    Cumings, Mrs. John Bradley (Florence Briggs Th...  female  38.0      1   \n",
       "2                               Heikkinen, Miss. Laina  female  26.0      0   \n",
       "3         Futrelle, Mrs. Jacques Heath (Lily May Peel)  female  35.0      1   \n",
       "4                             Allen, Mr. William Henry    male  35.0      0   \n",
       "5                                     Moran, Mr. James    male   NaN      0   \n",
       "6                              McCarthy, Mr. Timothy J    male  54.0      0   \n",
       "7                       Palsson, Master. Gosta Leonard    male   2.0      3   \n",
       "8    Johnson, Mrs. Oscar W (Elisabeth Vilhelmina Berg)  female  27.0      0   \n",
       "9                  Nasser, Mrs. Nicholas (Adele Achem)  female  14.0      1   \n",
       "10                     Sandstrom, Miss. Marguerite Rut  female   4.0      1   \n",
       "11                            Bonnell, Miss. Elizabeth  female  58.0      0   \n",
       "12                      Saundercock, Mr. William Henry    male  20.0      0   \n",
       "13                         Andersson, Mr. Anders Johan    male  39.0      1   \n",
       "14                Vestrom, Miss. Hulda Amanda Adolfina  female  14.0      0   \n",
       "15                    Hewlett, Mrs. (Mary D Kingcome)   female  55.0      0   \n",
       "16                                Rice, Master. Eugene    male   2.0      4   \n",
       "17                        Williams, Mr. Charles Eugene    male   NaN      0   \n",
       "18   Vander Planke, Mrs. Julius (Emelia Maria Vande...  female  31.0      1   \n",
       "19                             Masselmani, Mrs. Fatima  female   NaN      0   \n",
       "20                                Fynney, Mr. Joseph J    male  35.0      0   \n",
       "21                               Beesley, Mr. Lawrence    male  34.0      0   \n",
       "22                         McGowan, Miss. Anna \"Annie\"  female  15.0      0   \n",
       "23                        Sloper, Mr. William Thompson    male  28.0      0   \n",
       "24                       Palsson, Miss. Torborg Danira  female   8.0      3   \n",
       "25   Asplund, Mrs. Carl Oscar (Selma Augusta Emilia...  female  38.0      1   \n",
       "26                             Emir, Mr. Farred Chehab    male   NaN      0   \n",
       "27                      Fortune, Mr. Charles Alexander    male  19.0      3   \n",
       "28                       O'Dwyer, Miss. Ellen \"Nellie\"  female   NaN      0   \n",
       "29                                 Todoroff, Mr. Lalio    male   NaN      0   \n",
       "..                                                 ...     ...   ...    ...   \n",
       "861                        Giles, Mr. Frederick Edward    male  21.0      1   \n",
       "862  Swift, Mrs. Frederick Joel (Margaret Welles Ba...  female  48.0      0   \n",
       "863                  Sage, Miss. Dorothy Edith \"Dolly\"  female   NaN      8   \n",
       "864                             Gill, Mr. John William    male  24.0      0   \n",
       "865                           Bystrom, Mrs. (Karolina)  female  42.0      0   \n",
       "866                       Duran y More, Miss. Asuncion  female  27.0      1   \n",
       "867               Roebling, Mr. Washington Augustus II    male  31.0      0   \n",
       "868                        van Melkebeke, Mr. Philemon    male   NaN      0   \n",
       "869                    Johnson, Master. Harold Theodor    male   4.0      1   \n",
       "870                                  Balkic, Mr. Cerin    male  26.0      0   \n",
       "871   Beckwith, Mrs. Richard Leonard (Sallie Monypeny)  female  47.0      1   \n",
       "872                           Carlsson, Mr. Frans Olof    male  33.0      0   \n",
       "873                        Vander Cruyssen, Mr. Victor    male  47.0      0   \n",
       "874              Abelson, Mrs. Samuel (Hannah Wizosky)  female  28.0      1   \n",
       "875                   Najib, Miss. Adele Kiamie \"Jane\"  female  15.0      0   \n",
       "876                      Gustafsson, Mr. Alfred Ossian    male  20.0      0   \n",
       "877                               Petroff, Mr. Nedelio    male  19.0      0   \n",
       "878                                 Laleff, Mr. Kristo    male   NaN      0   \n",
       "879      Potter, Mrs. Thomas Jr (Lily Alexenia Wilson)  female  56.0      0   \n",
       "880       Shelley, Mrs. William (Imanita Parrish Hall)  female  25.0      0   \n",
       "881                                 Markun, Mr. Johann    male  33.0      0   \n",
       "882                       Dahlberg, Miss. Gerda Ulrika  female  22.0      0   \n",
       "883                      Banfield, Mr. Frederick James    male  28.0      0   \n",
       "884                             Sutehall, Mr. Henry Jr    male  25.0      0   \n",
       "885               Rice, Mrs. William (Margaret Norton)  female  39.0      0   \n",
       "886                              Montvila, Rev. Juozas    male  27.0      0   \n",
       "887                       Graham, Miss. Margaret Edith  female  19.0      0   \n",
       "888           Johnston, Miss. Catherine Helen \"Carrie\"  female   NaN      1   \n",
       "889                              Behr, Mr. Karl Howell    male  26.0      0   \n",
       "890                                Dooley, Mr. Patrick    male  32.0      0   \n",
       "\n",
       "     Parch            Ticket      Fare        Cabin Embarked  \n",
       "0        0         A/5 21171    7.2500          NaN        S  \n",
       "1        0          PC 17599   71.2833          C85        C  \n",
       "2        0  STON/O2. 3101282    7.9250          NaN        S  \n",
       "3        0            113803   53.1000         C123        S  \n",
       "4        0            373450    8.0500          NaN        S  \n",
       "5        0            330877    8.4583          NaN        Q  \n",
       "6        0             17463   51.8625          E46        S  \n",
       "7        1            349909   21.0750          NaN        S  \n",
       "8        2            347742   11.1333          NaN        S  \n",
       "9        0            237736   30.0708          NaN        C  \n",
       "10       1           PP 9549   16.7000           G6        S  \n",
       "11       0            113783   26.5500         C103        S  \n",
       "12       0         A/5. 2151    8.0500          NaN        S  \n",
       "13       5            347082   31.2750          NaN        S  \n",
       "14       0            350406    7.8542          NaN        S  \n",
       "15       0            248706   16.0000          NaN        S  \n",
       "16       1            382652   29.1250          NaN        Q  \n",
       "17       0            244373   13.0000          NaN        S  \n",
       "18       0            345763   18.0000          NaN        S  \n",
       "19       0              2649    7.2250          NaN        C  \n",
       "20       0            239865   26.0000          NaN        S  \n",
       "21       0            248698   13.0000          D56        S  \n",
       "22       0            330923    8.0292          NaN        Q  \n",
       "23       0            113788   35.5000           A6        S  \n",
       "24       1            349909   21.0750          NaN        S  \n",
       "25       5            347077   31.3875          NaN        S  \n",
       "26       0              2631    7.2250          NaN        C  \n",
       "27       2             19950  263.0000  C23 C25 C27        S  \n",
       "28       0            330959    7.8792          NaN        Q  \n",
       "29       0            349216    7.8958          NaN        S  \n",
       "..     ...               ...       ...          ...      ...  \n",
       "861      0             28134   11.5000          NaN        S  \n",
       "862      0             17466   25.9292          D17        S  \n",
       "863      2          CA. 2343   69.5500          NaN        S  \n",
       "864      0            233866   13.0000          NaN        S  \n",
       "865      0            236852   13.0000          NaN        S  \n",
       "866      0     SC/PARIS 2149   13.8583          NaN        C  \n",
       "867      0          PC 17590   50.4958          A24        S  \n",
       "868      0            345777    9.5000          NaN        S  \n",
       "869      1            347742   11.1333          NaN        S  \n",
       "870      0            349248    7.8958          NaN        S  \n",
       "871      1             11751   52.5542          D35        S  \n",
       "872      0               695    5.0000  B51 B53 B55        S  \n",
       "873      0            345765    9.0000          NaN        S  \n",
       "874      0         P/PP 3381   24.0000          NaN        C  \n",
       "875      0              2667    7.2250          NaN        C  \n",
       "876      0              7534    9.8458          NaN        S  \n",
       "877      0            349212    7.8958          NaN        S  \n",
       "878      0            349217    7.8958          NaN        S  \n",
       "879      1             11767   83.1583          C50        C  \n",
       "880      1            230433   26.0000          NaN        S  \n",
       "881      0            349257    7.8958          NaN        S  \n",
       "882      0              7552   10.5167          NaN        S  \n",
       "883      0  C.A./SOTON 34068   10.5000          NaN        S  \n",
       "884      0   SOTON/OQ 392076    7.0500          NaN        S  \n",
       "885      5            382652   29.1250          NaN        Q  \n",
       "886      0            211536   13.0000          NaN        S  \n",
       "887      0            112053   30.0000          B42        S  \n",
       "888      2        W./C. 6607   23.4500          NaN        S  \n",
       "889      0            111369   30.0000         C148        C  \n",
       "890      0            370376    7.7500          NaN        Q  \n",
       "\n",
       "[891 rows x 12 columns]"
      ]
     },
     "execution_count": 19,
     "metadata": {},
     "output_type": "execute_result"
    }
   ],
   "source": [
    "df = pd.read_csv(\"titanic_train.csv\") \n",
    "df"
   ]
  },
  {
   "cell_type": "code",
   "execution_count": 20,
   "metadata": {
    "collapsed": false
   },
   "outputs": [],
   "source": [
    "df = df.drop('Ticket',axis=1)\n",
    "df = df.drop('Cabin',axis=1)\n",
    "df = df.dropna()"
   ]
  },
  {
   "cell_type": "code",
   "execution_count": 21,
   "metadata": {
    "collapsed": false,
    "scrolled": true
   },
   "outputs": [
    {
     "data": {
      "text/plain": [
       "<matplotlib.text.Text at 0xe112048>"
      ]
     },
     "execution_count": 21,
     "metadata": {},
     "output_type": "execute_result"
    },
    {
     "data": {
      "image/png": "[encoded data removed]",
      "text/plain": [
       "<matplotlib.figure.Figure at 0xd10d6a0>"
      ]
     },
     "metadata": {},
     "output_type": "display_data"
    }
   ],
   "source": [
    "# specifies the parameters of our graphs\n",
    "fig = plt.figure(figsize=(18,6), dpi=1600) \n",
    "alpha=alpha_scatterplot = 0.2 \n",
    "alpha_bar_chart = 0.55\n",
    "\n",
    "# lets us plot many diffrent shaped graphs together \n",
    "ax1 = plt.subplot2grid((2,3),(0,0))\n",
    "# plots a bar graph of those who surived vs those who did not.               \n",
    "df.Survived.value_counts().plot(kind='bar', alpha=alpha_bar_chart)\n",
    "# this nicely sets the margins in matplotlib to deal with a recent bug 1.3.1\n",
    "ax1.set_xlim(-1, 2)\n",
    "# puts a title on our graph\n",
    "plt.title(\"Distribution of Survival, (1 = Survived)\")    \n",
    "\n",
    "plt.subplot2grid((2,3),(0,1))\n",
    "plt.scatter(df.Survived, df.Age, alpha=alpha_scatterplot)\n",
    "# sets the y axis lable\n",
    "plt.ylabel(\"Age\")\n",
    "# formats the grid line style of our graphs                          \n",
    "plt.grid(b=True, which='major', axis='y')  \n",
    "plt.title(\"Survival by Age,  (1 = Survived)\")\n",
    "\n",
    "ax3 = plt.subplot2grid((2,3),(0,2))\n",
    "df.Pclass.value_counts().plot(kind=\"barh\", alpha=alpha_bar_chart)\n",
    "ax3.set_ylim(-1, len(df.Pclass.value_counts()))\n",
    "plt.title(\"Class Distribution\")\n",
    "\n",
    "plt.subplot2grid((2,3),(1,0), colspan=2)\n",
    "# plots a kernel density estimate of the subset of the 1st class passangers's age\n",
    "df.Age[df.Pclass == 1].plot(kind='kde')    \n",
    "df.Age[df.Pclass == 2].plot(kind='kde')\n",
    "df.Age[df.Pclass == 3].plot(kind='kde')\n",
    " # plots an axis lable\n",
    "plt.xlabel(\"Age\")    \n",
    "plt.title(\"Age Distribution within classes\")\n",
    "# sets our legend for our graph.\n",
    "plt.legend(('1st Class', '2nd Class','3rd Class'),loc='best') \n",
    "\n",
    "ax5 = plt.subplot2grid((2,3),(1,2))\n",
    "df.Embarked.value_counts().plot(kind='bar', alpha=alpha_bar_chart)\n",
    "ax5.set_xlim(-1, len(df.Embarked.value_counts()))\n",
    "# specifies the parameters of our graphs\n",
    "plt.title(\"Passengers per boarding location\")"
   ]
  },
  {
   "cell_type": "code",
   "execution_count": 22,
   "metadata": {
    "collapsed": false
   },
   "outputs": [
    {
     "data": {
      "text/plain": [
       "<matplotlib.text.Text at 0xe4515c0>"
      ]
     },
     "execution_count": 22,
     "metadata": {},
     "output_type": "execute_result"
    },
    {
     "data": {
      "text/plain": [
       "<matplotlib.figure.Figure at 0xcfd1d68>"
      ]
     },
     "metadata": {},
     "output_type": "display_data"
    },
    {
     "data": {
      "image/png": "[encoded data removed]",
      "text/plain": [
       "<matplotlib.figure.Figure at 0xcfd1d30>"
      ]
     },
     "metadata": {},
     "output_type": "display_data"
    }
   ],
   "source": [
    "plt.figure(figsize=(6,4))\n",
    "fig, ax = plt.subplots()\n",
    "df.Survived.value_counts().plot(kind='barh', color=\"blue\", alpha=.65)\n",
    "ax.set_ylim(-1, len(df.Survived.value_counts())) \n",
    "plt.title(\"Survival Breakdown (1 = Survived, 0 = Died)\")"
   ]
  },
  {
   "cell_type": "code",
   "execution_count": 23,
   "metadata": {
    "collapsed": false
   },
   "outputs": [
    {
     "data": {
      "text/plain": [
       "(-1, 2)"
      ]
     },
     "execution_count": 23,
     "metadata": {},
     "output_type": "execute_result"
    },
    {
     "data": {
      "image/png": "[encoded data removed]",
      "text/plain": [
       "<matplotlib.figure.Figure at 0xcfd17f0>"
      ]
     },
     "metadata": {},
     "output_type": "display_data"
    }
   ],
   "source": [
    "fig = plt.figure(figsize=(18,6))\n",
    "\n",
    "#create a plot of two subsets, male and female, of the survived variable.\n",
    "#After we do that we call value_counts() so it can be easily plotted as a bar graph. \n",
    "#'barh' is just a horizontal bar graph\n",
    "df_male = DataFrame()\n",
    "df_female = DataFrame()\n",
    "df_male = df.Survived[df.Sex == 'male'].value_counts().sort_index()\n",
    "df_female = df.Survived[df.Sex == 'female'].value_counts().sort_index()\n",
    "\n",
    "ax1 = fig.add_subplot(121)\n",
    "df_male.plot(kind='barh',label='Male', alpha=0.55)\n",
    "df_female.plot(kind='barh', color='#FA2379',label='Female', alpha=0.55)\n",
    "plt.title(\"Who Survived? with respect to Gender, (raw value counts) \"); plt.legend(loc='best')\n",
    "ax1.set_ylim(-1, 2) \n",
    "\n",
    "#adjust graph to display the proportions of survival by gender\n",
    "ax2 = fig.add_subplot(122)\n",
    "(df_male/float(df_male.sum())).plot(kind='barh',label='Male', alpha=0.55)  \n",
    "(df_female/float(df_female.sum())).plot(kind='barh', color='#FA2379',label='Female', alpha=0.55)\n",
    "plt.title(\"Who Survived proportionally? with respect to Gender\"); plt.legend(loc='best')\n",
    "\n",
    "ax2.set_ylim(-1, 2)"
   ]
  },
  {
   "cell_type": "code",
   "execution_count": 24,
   "metadata": {
    "collapsed": false
   },
   "outputs": [
    {
     "data": {
      "text/plain": [
       "<matplotlib.legend.Legend at 0x1069be80>"
      ]
     },
     "execution_count": 24,
     "metadata": {},
     "output_type": "execute_result"
    },
    {
     "data": {
      "image/png": "[encoded data removed]",
      "text/plain": [
       "<matplotlib.figure.Figure at 0xe9cc780>"
      ]
     },
     "metadata": {},
     "output_type": "display_data"
    }
   ],
   "source": [
    "fig = plt.figure(figsize=(18,4), dpi=1600)\n",
    "alpha_level = 0.65\n",
    "\n",
    "# building on the previous code, here we create an additional subset with in the gender subset \n",
    "# we created for the survived variable. I know, thats a lot of subsets. After we do that we call \n",
    "# value_counts() so it it can be easily plotted as a bar graph. this is repeated for each gender \n",
    "# class pair.\n",
    "ax1=fig.add_subplot(141)\n",
    "female_highclass = df.Survived[df.Sex == 'female'][df.Pclass != 3].value_counts()\n",
    "female_highclass.plot(kind='bar', label='female, highclass', color='#FA2479', alpha=alpha_level)\n",
    "ax1.set_xticklabels([\"Survived\", \"Died\"], rotation=0)\n",
    "ax1.set_xlim(-1, len(female_highclass))\n",
    "plt.title(\"Who Survived? with respect to Gender and Class\"); plt.legend(loc='best')\n",
    "\n",
    "ax2=fig.add_subplot(142, sharey=ax1)\n",
    "female_lowclass = df.Survived[df.Sex == 'female'][df.Pclass == 3].value_counts()\n",
    "female_lowclass.plot(kind='bar', label='female, low class', color='pink', alpha=alpha_level)\n",
    "ax2.set_xticklabels([\"Died\",\"Survived\"], rotation=0)\n",
    "ax2.set_xlim(-1, len(female_lowclass))\n",
    "plt.legend(loc='best')\n",
    "\n",
    "ax3=fig.add_subplot(143, sharey=ax1)\n",
    "male_lowclass = df.Survived[df.Sex == 'male'][df.Pclass == 3].value_counts()\n",
    "male_lowclass.plot(kind='bar', label='male, low class',color='lightblue', alpha=alpha_level)\n",
    "ax3.set_xticklabels([\"Died\",\"Survived\"], rotation=0)\n",
    "ax3.set_xlim(-1, len(male_lowclass))\n",
    "plt.legend(loc='best')\n",
    "\n",
    "ax4=fig.add_subplot(144, sharey=ax1)\n",
    "male_highclass = df.Survived[df.Sex == 'male'][df.Pclass != 3].value_counts()\n",
    "male_highclass.plot(kind='bar', label='male, highclass', alpha=alpha_level, color='steelblue')\n",
    "ax4.set_xticklabels([\"Died\",\"Survived\"], rotation=0)\n",
    "ax4.set_xlim(-1, len(male_highclass))\n",
    "plt.legend(loc='best')"
   ]
  },
  {
   "cell_type": "code",
   "execution_count": 25,
   "metadata": {
    "collapsed": false
   },
   "outputs": [
    {
     "name": "stdout",
     "output_type": "stream",
     "text": [
      "['alabaster==0.7.8', 'anaconda-client==1.4.0', 'anaconda-navigator==1.2.1', 'argcomplete==1.0.0', 'astropy==1.2.1', 'babel==2.3.3', 'backports-abc==0.4', 'backports.shutil-get-terminal-size==1.0.0', 'backports.ssl-match-hostname==3.4.0.2', 'beautifulsoup4==4.4.1', 'bitarray==0.8.1', 'blaze==0.10.1', 'bokeh==0.12.0', 'boto==2.40.0', 'bottleneck==1.1.0', 'cdecimal==2.3', 'cffi==1.6.0', 'chest==0.2.3', 'click==6.6', 'cloudpickle==0.2.1', 'clyent==1.2.2', 'colorama==0.3.7', 'comtypes==1.1.2', 'configobj==5.0.6', 'configparser==3.5.0b2', 'contextlib2==0.5.3', 'cryptography==1.4', 'cycler==0.10.0', 'cython==0.24', 'cytoolz==0.8.0', 'dask==0.10.0', 'datashape==0.5.2', 'decorator==4.0.10', 'dill==0.2.5', 'docutils==0.12', 'enum34==1.1.6', 'et-xmlfile==1.0.1', 'fastcache==1.0.2', 'flask-cors==2.1.2', 'flask==0.11.1', 'funcsigs==1.0.2', 'functools32==3.2.3.post2', 'futures==3.0.5', 'gevent==1.1.1', 'greenlet==0.4.10', 'grin==1.2.1', 'h5py==2.6.0', 'heapdict==1.0.0', 'idna==2.1', 'imagesize==0.7.1', 'ipaddress==1.0.16', 'ipykernel==4.3.1', 'ipython-genutils==0.1.0', 'ipython==4.2.0', 'ipywidgets==4.1.1', 'itsdangerous==0.24', 'jdcal==1.2', 'jedi==0.9.0', 'jinja2==2.8', 'jsonschema==2.5.1', 'jupyter-client==4.3.0', 'jupyter-console==4.1.1', 'jupyter-core==4.1.0', 'jupyter==1.0.0', 'llvmlite==0.11.0', 'locket==0.2.0', 'lxml==3.6.0', 'markupsafe==0.23', 'matplotlib==1.5.1', 'menuinst==1.4.1', 'mistune==0.7.2', 'mpmath==0.19', 'multipledispatch==0.4.8', 'nb-anacondacloud==1.1.0', 'nb-conda-kernels==1.0.3', 'nb-conda==1.1.0', 'nbconvert==4.2.0', 'nbformat==4.0.1', 'nbpresent==3.0.2', 'networkx==1.11', 'nltk==3.2.1', 'nose==1.3.7', 'notebook==4.2.1', 'numba==0.26.0', 'numexpr==2.6.0', 'numpy==1.11.1', 'odo==0.5.0', 'openpyxl==2.3.2', 'pandas==0.18.1', 'partd==0.3.4', 'path.py==0.0.0', 'pathlib2==2.1.0', 'patsy==0.4.1', 'pep8==1.7.0', 'pickleshare==0.7.2', 'pillow==3.2.0', 'pip==8.1.2', 'ply==3.8', 'psutil==4.3.0', 'py==1.4.31', 'pyasn1==0.1.9', 'pycosat==0.6.1', 'pycparser==2.14', 'pycrypto==2.6.1', 'pycurl==7.43.0', 'pyflakes==1.2.3', 'pygments==2.1.3', 'pyopenssl==16.0.0', 'pyparsing==2.1.4', 'pyreadline==2.1', 'pytest==2.9.2', 'python-dateutil==2.5.3', 'pytz==2016.4', 'pywin32==220', 'pyyaml==3.11', 'pyzmq==15.2.0', 'qtconsole==4.2.1', 'qtpy==1.0.2', 'requests==2.10.0', 'rope==0.9.4', u'ruamel-yaml==-VERSION', 'scikit-image==0.12.3', 'scikit-learn==0.17.1', 'scipy==0.17.1', 'setuptools==23.0.0', 'simplegeneric==0.8.1', 'singledispatch==3.4.0.3', 'six==1.10.0', 'snowballstemmer==1.2.1', 'sockjs-tornado==1.0.3', 'sphinx-rtd-theme==0.1.9', 'sphinx==1.4.1', 'spyder==2.3.9', 'sqlalchemy==1.0.13', 'statsmodels==0.6.1', 'sympy==1.0', 'tables==3.2.2', 'toolz==0.8.0', 'tornado==4.3', 'traitlets==4.2.1', 'unicodecsv==0.14.1', 'werkzeug==0.11.10', 'wheel==0.29.0', 'xlrd==1.0.0', 'xlsxwriter==0.9.2', 'xlwings==0.7.2', 'xlwt==1.1.2']\n"
     ]
    }
   ],
   "source": [
    "import pip\n",
    "installed_packages = pip.get_installed_distributions()\n",
    "installed_packages_list = sorted([\"%s==%s\" % (i.key, i.version)\n",
    "     for i in installed_packages])\n",
    "print(installed_packages_list)"
   ]
  },
  {
   "cell_type": "code",
   "execution_count": 31,
   "metadata": {
    "collapsed": false
   },
   "outputs": [
    {
     "data": {
      "text/plain": [
       "<matplotlib.text.Text at 0x1179c470>"
      ]
     },
     "execution_count": 31,
     "metadata": {},
     "output_type": "execute_result"
    },
    {
     "data": {
      "image/png": "[encoded data removed]",
      "text/plain": [
       "<matplotlib.figure.Figure at 0x11706550>"
      ]
     },
     "metadata": {},
     "output_type": "display_data"
    }
   ],
   "source": [
    "fig = plt.figure(figsize=(18,12), dpi=1600)\n",
    "a = 0.65\n",
    "# Step 1\n",
    "ax1b = fig.add_subplot(341)\n",
    "ax1b = fig.add_subplot(341)\n",
    "x = len(df.Survived.value_counts())\n",
    "df.Survived.value_counts().plot(kind='bar', color=\"blue\", alpha=a)\n",
    "ax1b.set_xbound(lower=-1, upper=x)\n",
    "plt.title(\"Step. 1\")"
   ]
  },
  {
   "cell_type": "code",
   "execution_count": 32,
   "metadata": {
    "collapsed": false
   },
   "outputs": [
    {
     "data": {
      "text/plain": [
       "<matplotlib.legend.Legend at 0x114d6dd8>"
      ]
     },
     "execution_count": 32,
     "metadata": {},
     "output_type": "execute_result"
    },
    {
     "data": {
      "image/png": "[encoded data removed]",
      "text/plain": [
       "<matplotlib.figure.Figure at 0x11a5b1d0>"
      ]
     },
     "metadata": {},
     "output_type": "display_data"
    }
   ],
   "source": [
    "# Step 2\n",
    "ax2 = fig.add_subplot(345)\n",
    "df.Survived[df.Sex == 'male'].value_counts().plot(kind='bar',label='Male')\n",
    "df.Survived[df.Sex == 'female'].value_counts().plot(kind='bar', color='#FA2379',label='Female')\n",
    "ax2.set_xlim(-1, 2)\n",
    "plt.title(\"Step. 2 \\nWho Survied? with respect to Gender.\"); plt.legend(loc='best')"
   ]
  },
  {
   "cell_type": "code",
   "execution_count": 33,
   "metadata": {
    "collapsed": false
   },
   "outputs": [
    {
     "data": {
      "text/plain": [
       "<matplotlib.legend.Legend at 0x11e1f588>"
      ]
     },
     "execution_count": 33,
     "metadata": {},
     "output_type": "execute_result"
    },
    {
     "data": {
      "image/png": "[encoded data removed]",
      "text/plain": [
       "<matplotlib.figure.Figure at 0x11e1f668>"
      ]
     },
     "metadata": {},
     "output_type": "display_data"
    }
   ],
   "source": [
    "ax3 = fig.add_subplot(346)\n",
    "(df.Survived[df.Sex == 'male'].value_counts()/float(df.Sex[df.Sex == 'male'].size)).plot(kind='bar',label='Male')\n",
    "(df.Survived[df.Sex == 'female'].value_counts()/float(df.Sex[df.Sex == 'female'].size)).plot(kind='bar', color='#FA2379',label='Female')\n",
    "ax3.set_xlim(-1,2)\n",
    "plt.title(\"Who Survied proportionally?\"); plt.legend(loc='best')"
   ]
  },
  {
   "cell_type": "code",
   "execution_count": 34,
   "metadata": {
    "collapsed": false
   },
   "outputs": [
    {
     "data": {
      "text/plain": [
       "<matplotlib.legend.Legend at 0xeabac18>"
      ]
     },
     "execution_count": 34,
     "metadata": {},
     "output_type": "execute_result"
    },
    {
     "data": {
      "image/png": "[encoded data removed]",
      "text/plain": [
       "<matplotlib.figure.Figure at 0x10f219e8>"
      ]
     },
     "metadata": {},
     "output_type": "display_data"
    }
   ],
   "source": [
    "# Step 3\n",
    "ax4 = fig.add_subplot(349)\n",
    "female_highclass = df.Survived[df.Sex == 'female'][df.Pclass != 3].value_counts()\n",
    "female_highclass.plot(kind='bar', label='female highclass', color='#FA2479', alpha=a)\n",
    "ax4.set_xticklabels([\"Survived\", \"Died\"], rotation=0)\n",
    "ax4.set_xlim(-1, len(female_highclass))\n",
    "plt.title(\"Who Survived? with respect to Gender and Class\"); plt.legend(loc='best')"
   ]
  },
  {
   "cell_type": "code",
   "execution_count": 35,
   "metadata": {
    "collapsed": false
   },
   "outputs": [
    {
     "data": {
      "text/plain": [
       "<matplotlib.legend.Legend at 0x12207b70>"
      ]
     },
     "execution_count": 35,
     "metadata": {},
     "output_type": "execute_result"
    },
    {
     "data": {
      "image/png": "[encoded data removed]",
      "text/plain": [
       "<matplotlib.figure.Figure at 0x1228edd8>"
      ]
     },
     "metadata": {},
     "output_type": "display_data"
    }
   ],
   "source": [
    "ax5 = fig.add_subplot(3,4,10, sharey=ax1)\n",
    "female_lowclass = df.Survived[df.Sex == 'female'][df.Pclass == 3].value_counts()\n",
    "female_lowclass.plot(kind='bar', label='female, low class', color='pink', alpha=a)\n",
    "ax5.set_xticklabels([\"Died\",\"Survived\"], rotation=0)\n",
    "ax5.set_xlim(-1, len(female_lowclass))\n",
    "plt.legend(loc='best')"
   ]
  },
  {
   "cell_type": "code",
   "execution_count": 36,
   "metadata": {
    "collapsed": false
   },
   "outputs": [
    {
     "data": {
      "text/plain": [
       "<matplotlib.legend.Legend at 0x1251f978>"
      ]
     },
     "execution_count": 36,
     "metadata": {},
     "output_type": "execute_result"
    },
    {
     "data": {
      "image/png": "[encoded data removed]",
      "text/plain": [
       "<matplotlib.figure.Figure at 0x12558ac8>"
      ]
     },
     "metadata": {},
     "output_type": "display_data"
    }
   ],
   "source": [
    "ax6 = fig.add_subplot(3,4,11, sharey=ax1)\n",
    "male_lowclass = df.Survived[df.Sex == 'male'][df.Pclass == 3].value_counts()\n",
    "male_lowclass.plot(kind='bar', label='male, low class',color='lightblue', alpha=a)\n",
    "ax6.set_xticklabels([\"Died\",\"Survived\"], rotation=0)\n",
    "ax6.set_xlim(-1, len(male_lowclass))\n",
    "plt.legend(loc='best')"
   ]
  },
  {
   "cell_type": "code",
   "execution_count": 37,
   "metadata": {
    "collapsed": false
   },
   "outputs": [
    {
     "data": {
      "text/plain": [
       "<matplotlib.legend.Legend at 0x12841080>"
      ]
     },
     "execution_count": 37,
     "metadata": {},
     "output_type": "execute_result"
    },
    {
     "data": {
      "image/png": "[encoded data removed]",
      "text/plain": [
       "<matplotlib.figure.Figure at 0x1287e1d0>"
      ]
     },
     "metadata": {},
     "output_type": "display_data"
    }
   ],
   "source": [
    "ax7 = fig.add_subplot(3,4,12, sharey=ax1)\n",
    "male_highclass = df.Survived[df.Sex == 'male'][df.Pclass != 3].value_counts()\n",
    "male_highclass.plot(kind='bar', label='male highclass', alpha=a, color='steelblue')\n",
    "ax7.set_xticklabels([\"Died\",\"Survived\"], rotation=0)\n",
    "ax7.set_xlim(-1, len(male_highclass))\n",
    "plt.legend(loc='best')"
   ]
  },
  {
   "cell_type": "code",
   "execution_count": 38,
   "metadata": {
    "collapsed": false
   },
   "outputs": [
    {
     "data": {
      "text/plain": [
       "PassengerId      int64\n",
       "Survived         int64\n",
       "Pclass           int64\n",
       "Name            object\n",
       "Sex             object\n",
       "Age            float64\n",
       "SibSp            int64\n",
       "Parch            int64\n",
       "Fare           float64\n",
       "Embarked        object\n",
       "dtype: object"
      ]
     },
     "execution_count": 38,
     "metadata": {},
     "output_type": "execute_result"
    }
   ],
   "source": [
    "df.dtypes"
   ]
  },
  {
   "cell_type": "code",
   "execution_count": 39,
   "metadata": {
    "collapsed": false
   },
   "outputs": [
    {
     "data": {
      "text/plain": [
       "PassengerId      int64\n",
       "Survived         int64\n",
       "Pclass          object\n",
       "Name            object\n",
       "Sex             object\n",
       "Age              int64\n",
       "SibSp            int64\n",
       "Parch            int64\n",
       "Fare           float64\n",
       "Embarked        object\n",
       "dtype: object"
      ]
     },
     "execution_count": 39,
     "metadata": {},
     "output_type": "execute_result"
    }
   ],
   "source": [
    "df.Age = df.Age.astype(np.int64)\n",
    "df.Pclass = df.Pclass.astype(np.object)\n",
    "df.dtypes"
   ]
  },
  {
   "cell_type": "code",
   "execution_count": 40,
   "metadata": {
    "collapsed": false
   },
   "outputs": [],
   "source": [
    "# model formula\n",
    "# here the ~ sign is an = sign, and the features of our dataset\n",
    "# are written as a formula to predict survived. The C() lets our \n",
    "# regression know that those variables are categorical.\n",
    "# Ref: http://patsy.readthedocs.org/en/latest/formulas.html\n",
    "formula = \"Survived ~ C(Pclass) + C(Sex) + Age + SibSp  + C(Embarked)\"\n",
    "# create a results dictionary to hold our regression results for easy analysis later        \n",
    "results = {}"
   ]
  },
  {
   "cell_type": "code",
   "execution_count": 41,
   "metadata": {
    "collapsed": false
   },
   "outputs": [
    {
     "data": {
      "text/plain": [
       "'Survived ~ C(Pclass) + C(Sex) + Age + SibSp + C(Embarked)'"
      ]
     },
     "execution_count": 41,
     "metadata": {},
     "output_type": "execute_result"
    }
   ],
   "source": [
    "desc = ModelDesc.from_formula(formula)\n",
    "desc.describe()"
   ]
  },
  {
   "cell_type": "code",
   "execution_count": 42,
   "metadata": {
    "collapsed": false
   },
   "outputs": [
    {
     "name": "stdout",
     "output_type": "stream",
     "text": [
      "Survived ~ C(Pclass) + C(Sex) + Age + SibSp  + C(Embarked)\n"
     ]
    }
   ],
   "source": [
    "print formula\n",
    "y,x = dmatrices(desc.describe(),data=df,return_type='dataframe')\n",
    "#dmatrices(formula, data=df,eval_env=1,NA_action='drop',return_type='dataframe')\n"
   ]
  },
  {
   "cell_type": "code",
   "execution_count": 43,
   "metadata": {
    "collapsed": false
   },
   "outputs": [
    {
     "name": "stdout",
     "output_type": "stream",
     "text": [
      "Optimization terminated successfully.\n",
      "         Current function value: 0.444355\n",
      "         Iterations 6\n",
      "Optimization terminated successfully.\n",
      "         Current function value: 0.444355\n",
      "         Iterations 6\n",
      "<statsmodels.discrete.discrete_model.BinaryResultsWrapper object at 0x00000000123E3D30>\n",
      "Intercept           4.540361\n",
      "C(Pclass)[T.2L]    -1.268309\n",
      "C(Pclass)[T.3L]    -2.497116\n",
      "C(Sex)[T.male]     -2.624652\n",
      "C(Embarked)[T.Q]   -0.835133\n",
      "C(Embarked)[T.S]   -0.424070\n",
      "Age                -0.043605\n",
      "SibSp              -0.369781\n",
      "dtype: float64\n",
      "        Logit Marginal Effects       \n",
      "=====================================\n",
      "Dep. Variable:               Survived\n",
      "Method:                          dydx\n",
      "At:                           overall\n",
      "====================================================================================\n",
      "                      dy/dx    std err          z      P>|z|      [95.0% Conf. Int.]\n",
      "------------------------------------------------------------------------------------\n",
      "C(Pclass)[T.2L]     -0.1804      0.041     -4.425      0.000        -0.260    -0.100\n",
      "C(Pclass)[T.3L]     -0.3552      0.035    -10.049      0.000        -0.424    -0.286\n",
      "C(Sex)[T.male]      -0.3734      0.017    -21.927      0.000        -0.407    -0.340\n",
      "C(Embarked)[T.Q]    -0.1188      0.085     -1.404      0.160        -0.285     0.047\n",
      "C(Embarked)[T.S]    -0.0603      0.038     -1.576      0.115        -0.135     0.015\n",
      "Age                 -0.0062      0.001     -5.624      0.000        -0.008    -0.004\n",
      "SibSp               -0.0526      0.017     -3.066      0.002        -0.086    -0.019\n",
      "====================================================================================\n"
     ]
    },
    {
     "data": {
      "text/html": [
       "<table class=\"simpletable\">\n",
       "<caption>Logit Regression Results</caption>\n",
       "<tr>\n",
       "  <th>Dep. Variable:</th>     <td>Survived</td>     <th>  No. Observations:  </th>  <td>   712</td>  \n",
       "</tr>\n",
       "<tr>\n",
       "  <th>Model:</th>               <td>Logit</td>      <th>  Df Residuals:      </th>  <td>   704</td>  \n",
       "</tr>\n",
       "<tr>\n",
       "  <th>Method:</th>               <td>MLE</td>       <th>  Df Model:          </th>  <td>     7</td>  \n",
       "</tr>\n",
       "<tr>\n",
       "  <th>Date:</th>          <td>Thu, 01 Sep 2016</td> <th>  Pseudo R-squ.:     </th>  <td>0.3415</td>  \n",
       "</tr>\n",
       "<tr>\n",
       "  <th>Time:</th>              <td>22:12:43</td>     <th>  Log-Likelihood:    </th> <td> -316.38</td> \n",
       "</tr>\n",
       "<tr>\n",
       "  <th>converged:</th>           <td>True</td>       <th>  LL-Null:           </th> <td> -480.45</td> \n",
       "</tr>\n",
       "<tr>\n",
       "  <th> </th>                      <td> </td>        <th>  LLR p-value:       </th> <td>5.853e-67</td>\n",
       "</tr>\n",
       "</table>\n",
       "<table class=\"simpletable\">\n",
       "<tr>\n",
       "          <td></td>            <th>coef</th>     <th>std err</th>      <th>z</th>      <th>P>|z|</th> <th>[95.0% Conf. Int.]</th> \n",
       "</tr>\n",
       "<tr>\n",
       "  <th>Intercept</th>        <td>    4.5404</td> <td>    0.474</td> <td>    9.589</td> <td> 0.000</td> <td>    3.612     5.468</td>\n",
       "</tr>\n",
       "<tr>\n",
       "  <th>C(Pclass)[T.2L]</th>  <td>   -1.2683</td> <td>    0.299</td> <td>   -4.248</td> <td> 0.000</td> <td>   -1.854    -0.683</td>\n",
       "</tr>\n",
       "<tr>\n",
       "  <th>C(Pclass)[T.3L]</th>  <td>   -2.4971</td> <td>    0.296</td> <td>   -8.424</td> <td> 0.000</td> <td>   -3.078    -1.916</td>\n",
       "</tr>\n",
       "<tr>\n",
       "  <th>C(Sex)[T.male]</th>   <td>   -2.6247</td> <td>    0.218</td> <td>  -12.062</td> <td> 0.000</td> <td>   -3.051    -2.198</td>\n",
       "</tr>\n",
       "<tr>\n",
       "  <th>C(Embarked)[T.Q]</th> <td>   -0.8351</td> <td>    0.597</td> <td>   -1.399</td> <td> 0.162</td> <td>   -2.006     0.335</td>\n",
       "</tr>\n",
       "<tr>\n",
       "  <th>C(Embarked)[T.S]</th> <td>   -0.4241</td> <td>    0.271</td> <td>   -1.567</td> <td> 0.117</td> <td>   -0.955     0.107</td>\n",
       "</tr>\n",
       "<tr>\n",
       "  <th>Age</th>              <td>   -0.0436</td> <td>    0.008</td> <td>   -5.268</td> <td> 0.000</td> <td>   -0.060    -0.027</td>\n",
       "</tr>\n",
       "<tr>\n",
       "  <th>SibSp</th>            <td>   -0.3698</td> <td>    0.123</td> <td>   -3.004</td> <td> 0.003</td> <td>   -0.611    -0.129</td>\n",
       "</tr>\n",
       "</table>"
      ],
      "text/plain": [
       "<class 'statsmodels.iolib.summary.Summary'>\n",
       "\"\"\"\n",
       "                           Logit Regression Results                           \n",
       "==============================================================================\n",
       "Dep. Variable:               Survived   No. Observations:                  712\n",
       "Model:                          Logit   Df Residuals:                      704\n",
       "Method:                           MLE   Df Model:                            7\n",
       "Date:                Thu, 01 Sep 2016   Pseudo R-squ.:                  0.3415\n",
       "Time:                        22:12:43   Log-Likelihood:                -316.38\n",
       "converged:                       True   LL-Null:                       -480.45\n",
       "                                        LLR p-value:                 5.853e-67\n",
       "====================================================================================\n",
       "                       coef    std err          z      P>|z|      [95.0% Conf. Int.]\n",
       "------------------------------------------------------------------------------------\n",
       "Intercept            4.5404      0.474      9.589      0.000         3.612     5.468\n",
       "C(Pclass)[T.2L]     -1.2683      0.299     -4.248      0.000        -1.854    -0.683\n",
       "C(Pclass)[T.3L]     -2.4971      0.296     -8.424      0.000        -3.078    -1.916\n",
       "C(Sex)[T.male]      -2.6247      0.218    -12.062      0.000        -3.051    -2.198\n",
       "C(Embarked)[T.Q]    -0.8351      0.597     -1.399      0.162        -2.006     0.335\n",
       "C(Embarked)[T.S]    -0.4241      0.271     -1.567      0.117        -0.955     0.107\n",
       "Age                 -0.0436      0.008     -5.268      0.000        -0.060    -0.027\n",
       "SibSp               -0.3698      0.123     -3.004      0.003        -0.611    -0.129\n",
       "====================================================================================\n",
       "\"\"\""
      ]
     },
     "execution_count": 43,
     "metadata": {},
     "output_type": "execute_result"
    }
   ],
   "source": [
    "# instantiate our model\n",
    "model = sm.Logit(y,x)\n",
    "\n",
    "# fit our model to the training data\n",
    "res_v = model.fit().params.values\n",
    "res = res_v = model.fit()\n",
    "print res_v\n",
    "print res.params\n",
    "\n",
    "logit_margeff = res.get_margeff(method='dydx', at='overall')\n",
    "print logit_margeff.summary()\n",
    "\n",
    "# save the result for outputing predictions later\n",
    "results['Logit'] = [res, formula]\n",
    "res.summary()"
   ]
  },
  {
   "cell_type": "code",
   "execution_count": 44,
   "metadata": {
    "collapsed": false
   },
   "outputs": [
    {
     "data": {
      "image/png": "[encoded data removed]",
      "text/plain": [
       "<matplotlib.figure.Figure at 0x11d27470>"
      ]
     },
     "metadata": {},
     "output_type": "display_data"
    }
   ],
   "source": [
    "# Plot Predictions Vs Actual\n",
    "plt.figure(figsize=(18,4));\n",
    "plt.subplot(121, axisbg=\"#DBDBDB\")\n",
    "# generate predictions from our fitted model\n",
    "ypred = res.predict(x)\n",
    "plt.plot(x.index, ypred, 'bo', x.index, y, 'mo', alpha=.25);\n",
    "plt.grid(color='white', linestyle='dashed')\n",
    "plt.title('Logit predictions, Blue: \\nFitted/predicted values: Red');"
   ]
  },
  {
   "cell_type": "code",
   "execution_count": 45,
   "metadata": {
    "collapsed": false
   },
   "outputs": [
    {
     "data": {
      "image/png": "[encoded data removed]",
      "text/plain": [
       "<matplotlib.figure.Figure at 0x11f75d68>"
      ]
     },
     "metadata": {},
     "output_type": "display_data"
    }
   ],
   "source": [
    "# Residuals\n",
    "ax2 = plt.subplot(122, axisbg=\"#DBDBDB\")\n",
    "plt.plot(res.resid_dev, 'r-')\n",
    "plt.grid(color='white', linestyle='dashed')\n",
    "ax2.set_xlim(-1, len(res.resid_dev))\n",
    "plt.title('Logit Residuals');"
   ]
  },
  {
   "cell_type": "code",
   "execution_count": 46,
   "metadata": {
    "collapsed": false
   },
   "outputs": [
    {
     "data": {
      "text/plain": [
       "<matplotlib.text.Text at 0x130f84e0>"
      ]
     },
     "execution_count": 46,
     "metadata": {},
     "output_type": "execute_result"
    },
    {
     "data": {
      "image/png": "[encoded data removed]",
      "text/plain": [
       "<matplotlib.figure.Figure at 0x12d11630>"
      ]
     },
     "metadata": {},
     "output_type": "display_data"
    }
   ],
   "source": [
    "fig = plt.figure(figsize=(18,9), dpi=1600)\n",
    "a = .2\n",
    "\n",
    "# Below are examples of more advanced plotting. \n",
    "# It it looks strange check out the tutorial above.\n",
    "fig.add_subplot(221, axisbg=\"#DBDBDB\")\n",
    "kde_res = KDEUnivariate(res.predict())\n",
    "kde_res.fit()\n",
    "plt.plot(kde_res.support,kde_res.density)\n",
    "plt.fill_between(kde_res.support,kde_res.density, alpha=a)\n",
    "plt.title(\"Distribution of our Predictions\")\n",
    "\n",
    "fig.add_subplot(222, axisbg=\"#DBDBDB\")\n",
    "plt.scatter(res.predict(),x['C(Sex)[T.male]'] , alpha=a)\n",
    "plt.grid(b=True, which='major', axis='x')\n",
    "plt.xlabel(\"Predicted chance of survival\")\n",
    "plt.ylabel(\"Gender Bool\")\n",
    "plt.title(\"The Change of Survival Probability by Gender (1 = Male)\")"
   ]
  },
  {
   "cell_type": "code",
   "execution_count": null,
   "metadata": {
    "collapsed": false,
    "scrolled": true
   },
   "outputs": [],
   "source": [
    "fig.add_subplot(221, axisbg=\"#DBDBDB\")\n",
    "plt.scatter(res.predict(),x['C(Pclass)[T.3]'] , alpha=a)\n",
    "plt.xlabel(\"Predicted chance of survival\")\n",
    "plt.ylabel(\"Class Bool\")\n",
    "plt.grid(b=True, which='major', axis='x')\n",
    "plt.title(\"The Change of Survival Probability by Lower Class (1 = 3rd Class)\")\n",
    "\n",
    "fig.add_subplot(222, axisbg=\"#DBDBDB\")\n",
    "plt.scatter(res.predict(),x.Age , alpha=a)\n",
    "plt.grid(True, linewidth=0.15)\n",
    "plt.title(\"The Change of Survival Probability by Age\")\n",
    "plt.xlabel(\"Predicted chance of survival\")\n",
    "plt.ylabel(\"Age\")"
   ]
  },
  {
   "cell_type": "code",
   "execution_count": 48,
   "metadata": {
    "collapsed": false
   },
   "outputs": [
    {
     "data": {
      "text/plain": [
       "{'Logit': [<statsmodels.discrete.discrete_model.BinaryResultsWrapper at 0x123e3d30>,\n",
       "  'Survived ~ C(Pclass) + C(Sex) + Age + SibSp  + C(Embarked)']}"
      ]
     },
     "execution_count": 48,
     "metadata": {},
     "output_type": "execute_result"
    }
   ],
   "source": [
    "test_data = pd.read_csv(\"titanic_train.csv\")\n",
    "test_data = test_data.drop('Ticket',axis=1)\n",
    "test_data = test_data.drop('Cabin',axis=1)\n",
    "test_data = test_data.dropna()\n",
    "test_data\n",
    "test_data['Survived'] = 1.23\n",
    "results\n",
    "#from lib import kaggleaux as ka"
   ]
  },
  {
   "cell_type": "code",
   "execution_count": null,
   "metadata": {
    "collapsed": false
   },
   "outputs": [],
   "source": [
    "# Use your model to make prediction on our test set. \n",
    "compared_resuts = model.predict(test_data,results, 'Logit')\n",
    "compared_resuts = Series(compared_resuts)  # convert our model to a series for easy output\n",
    "# output and submit to kaggle\n",
    "compared_resuts.to_csv(\"logitregres.csv\") #learning algorithms\n",
    "formula_ml = 'Survived ~ C(Pclass) + C(Sex) + Age + SibSp + Parch + C(Embarked)'"
   ]
  },
  {
   "cell_type": "markdown",
   "metadata": {},
   "source": [
    " <a name=\"4.4\"></a>\n",
    " ## HW4.4 Heritage Healthcare Prize (Predict # Days in Hospital next year)\n",
    "[Back to Table of Contents](#TOC)\n",
    "\n",
    "1. Introduction \n",
    "Back to Table of Contents\n",
    "\n",
    "The Heritage Health Prize (HHP) was a data science challenge sponsored by The Heritage Provider Network. It took place from April 4, 2011 to April 4, 2013. For information on the winning entries, please see here.\n",
    "\n",
    "Please see the following notebooks for more background and candidate solutions\n",
    "\n",
    "\n",
    "- Spark Map-Reduce + MMLlib solution (with optional extensions) See [Notebook](http://nbviewer.jupyter.org/urls/dl.dropbox.com/s/v52cxipe7yftf97/HeritageHealthPrizeUnitTestNotebook_Spark-Map-Reduce.ipynb)\n",
    "\n",
    "- Spark SQL + MLLib solution (with optional extensions): [Notebook](http://nbviewer.jupyter.org/urls/dl.dropbox.com/s/s2wxg6g982oho5m/HeritageHealthPrizeUnitTestNotebook_SQL_FINAL.ipynb)\n",
    "\n",
    "\n",
    "Please look at section 7 in both notebooks complete any one or more the suggested next steps. E.g.,\n",
    "\n",
    "* Please complete the EDA extensions using inspiration from the Titanic Notebook from above.\n",
    "* __Complete Section 3.B: EDA-0. Gather information to see what transformations may need to be done on the data.__\n",
    "Answer questions about each raw DataFrame. In general, is the data in good shape? For example, in each of the Target DataFrames (df_target_Y1, df_target_Y2, df_target_Y3), what values does DaysInHospital take on? Are they all integers? What values does ClaimsTruncated take on? Are they all integers? In the Claims DataFrame (df_claims), how many different ProviderIDs are there? How many different PrimaryConditionGroups are there? What are their values? What values can the CharlesonIndex take on? Are they integers? In the Drug Count DataFrame (df_drug_count), what values can DrugCount take on? Are they all integers? Given this information, what transformations are needed?\n",
    "\n",
    "* __Complete Section 3.D: EDA-1. Create tables and graphs to display information about the transformed DataFrames. __\n",
    "For inspiration, see the Titanic notebook discussed above. Answer questions about each DataFrame. For example, in each of the Target DataFrames (df_target_Y1, df_target_Y2, df_target_Y3), what is the minimum, maximum, mean, and standard deviation of DaysInHospital? In the Claims DataFrame, group by MemberID and Year and count the number of records. What is the minimum, maximum, mean, and standard deviation of the count? Do the same for the Drug Count and Lab Count DataFrames, etc.\n",
    "\n",
    "\n",
    "* __ Please generate ensemble of DT model using 100 trees with 8 nodes and report the Loss __\n",
    "Try additional models. See possibilities here (e.g. Decision Tree Regressor, Gradient-Boosted Trees Regressor, Random Forest Regressor). See an example here. Tune their hyperparameters. Try different feature selections. Try a two-step model.\n"
   ]
  },
  {
   "cell_type": "code",
   "execution_count": 53,
   "metadata": {
    "collapsed": false
   },
   "outputs": [],
   "source": [
    "import sys\n",
    "import os\n",
    "import pyspark\n",
    "from pyspark.sql import SQLContext\n",
    "import pandas as pd\n",
    "from pyspark.sql.types import *\n",
    "import glob\n",
    "\n",
    "sql_context = SQLContext(sc)\n",
    "\n",
    "DATA_DIR = os.path.join('HHealthdata')"
   ]
  },
  {
   "cell_type": "code",
   "execution_count": 54,
   "metadata": {
    "collapsed": false
   },
   "outputs": [
    {
     "name": "stdout",
     "output_type": "stream",
     "text": [
      "Schema for target_Y2 DataFrame with 76038 rows:\n",
      "root\n",
      " |-- MemberID: string (nullable = true)\n",
      " |-- ClaimsTruncated: string (nullable = true)\n",
      " |-- DaysInHospital: string (nullable = true)\n",
      "\n",
      "+--------+---------------+--------------+\n",
      "|MemberID|ClaimsTruncated|DaysInHospital|\n",
      "+--------+---------------+--------------+\n",
      "|24027423|              0|             0|\n",
      "+--------+---------------+--------------+\n",
      "only showing top 1 row\n",
      "\n",
      "Schema for target_Y3 DataFrame with 71435 rows:\n",
      "root\n",
      " |-- MemberID: string (nullable = true)\n",
      " |-- ClaimsTruncated: string (nullable = true)\n",
      " |-- DaysInHospital: string (nullable = true)\n",
      "\n",
      "+--------+---------------+--------------+\n",
      "|MemberID|ClaimsTruncated|DaysInHospital|\n",
      "+--------+---------------+--------------+\n",
      "|90963501|              0|             0|\n",
      "+--------+---------------+--------------+\n",
      "only showing top 1 row\n",
      "\n",
      "Schema for target_Y4 DataFrame with 70942 rows:\n",
      "root\n",
      " |-- MemberID: string (nullable = true)\n",
      " |-- ClaimsTruncated: string (nullable = true)\n",
      " |-- DaysInHospital: string (nullable = true)\n",
      "\n",
      "+--------+---------------+--------------+\n",
      "|MemberID|ClaimsTruncated|DaysInHospital|\n",
      "+--------+---------------+--------------+\n",
      "|20820036|              0|           NaN|\n",
      "+--------+---------------+--------------+\n",
      "only showing top 1 row\n",
      "\n",
      "Schema for claims DataFrame with 241059 rows:\n",
      "root\n",
      " |-- MemberID: string (nullable = true)\n",
      " |-- ProviderID: string (nullable = true)\n",
      " |-- Vendor: string (nullable = true)\n",
      " |-- PCP: string (nullable = true)\n",
      " |-- Year: string (nullable = true)\n",
      " |-- Specialty: string (nullable = true)\n",
      " |-- PlaceSvc: string (nullable = true)\n",
      " |-- PayDelay: string (nullable = true)\n",
      " |-- LengthOfStay: string (nullable = true)\n",
      " |-- DSFS: string (nullable = true)\n",
      " |-- PrimaryConditionGroup: string (nullable = true)\n",
      " |-- CharlsonIndex: string (nullable = true)\n",
      " |-- ProcedureGroup: string (nullable = true)\n",
      " |-- SupLOS: string (nullable = true)\n",
      "\n",
      "+--------+----------+------+-----+----+---------+--------+--------+------------+-----------+---------------------+-------------+--------------+------+\n",
      "|MemberID|ProviderID|Vendor|  PCP|Year|Specialty|PlaceSvc|PayDelay|LengthOfStay|       DSFS|PrimaryConditionGroup|CharlsonIndex|ProcedureGroup|SupLOS|\n",
      "+--------+----------+------+-----+----+---------+--------+--------+------------+-----------+---------------------+-------------+--------------+------+\n",
      "|42286978|   8013252|172193|37796|  Y1|  Surgery|  Office|      28|         NaN|8- 9 months|              NEUMENT|            0|           MED|     0|\n",
      "+--------+----------+------+-----+----+---------+--------+--------+------------+-----------+---------------------+-------------+--------------+------+\n",
      "only showing top 1 row\n",
      "\n",
      "Schema for drug_count DataFrame with 818241 rows:\n",
      "root\n",
      " |-- MemberID: string (nullable = true)\n",
      " |-- Year: string (nullable = true)\n",
      " |-- DSFS: string (nullable = true)\n",
      " |-- DrugCount: string (nullable = true)\n",
      "\n",
      "+--------+----+-----------+---------+\n",
      "|MemberID|Year|       DSFS|DrugCount|\n",
      "+--------+----+-----------+---------+\n",
      "|48925661|  Y2|9-10 months|       7+|\n",
      "+--------+----+-----------+---------+\n",
      "only showing top 1 row\n",
      "\n",
      "Schema for lab_count DataFrame with 361484 rows:\n",
      "root\n",
      " |-- MemberID: string (nullable = true)\n",
      " |-- Year: string (nullable = true)\n",
      " |-- DSFS: string (nullable = true)\n",
      " |-- LabCount: string (nullable = true)\n",
      "\n",
      "+--------+----+-----------+--------+\n",
      "|MemberID|Year|       DSFS|LabCount|\n",
      "+--------+----+-----------+--------+\n",
      "|69258001|  Y3|2- 3 months|       1|\n",
      "+--------+----+-----------+--------+\n",
      "only showing top 1 row\n",
      "\n",
      "Schema for members DataFrame with 113000 rows:\n",
      "root\n",
      " |-- MemberID: string (nullable = true)\n",
      " |-- AgeAtFirstClaim: string (nullable = true)\n",
      " |-- Sex: string (nullable = true)\n",
      "\n",
      "+--------+---------------+---+\n",
      "|MemberID|AgeAtFirstClaim|Sex|\n",
      "+--------+---------------+---+\n",
      "|14723353|          70-79|  M|\n",
      "+--------+---------------+---+\n",
      "only showing top 1 row\n",
      "\n"
     ]
    }
   ],
   "source": [
    "def load_csv_file(filename):\n",
    "\n",
    "    input_path = os.path.join(DATA_DIR, filename)  \n",
    "    df_pandas = pd.read_csv(input_path, dtype='str')  \n",
    "    schema_string = df_pandas.columns.values.tolist()\n",
    "    fields = [StructField(field_name, StringType(), True) for field_name in schema_string]\n",
    "    schema = StructType(fields)  \n",
    "    return sql_context.createDataFrame(df_pandas, schema)\n",
    "\n",
    "def load_csv_files():\n",
    "    \n",
    "    df_pandas = pd.DataFrame()\n",
    "    input_path = glob.glob(DATA_DIR2)\n",
    "    for file in input_path:\n",
    "        df = pd.read_csv(input_path, dtype='str')\n",
    "        df_pandas = pd.concat(df_pandas, df, ignore_index=True)\n",
    "    schema_string = df_pandas.columns.values.tolist()\n",
    "    fields = [StructField(field_name, StringType(), True) for field_name in schema_string]\n",
    "    schema = StructType(fields)    \n",
    "    return sql_context.createDataFrame(df_pandas, schema)\n",
    "\n",
    "\n",
    "df_target_Y2 = load_csv_file('DaysInHospital_Y2.csv').cache()\n",
    "# Check the data\n",
    "print \"Schema for target_Y2 DataFrame with %d rows:\" %(df_target_Y2.count())\n",
    "df_target_Y2.printSchema()\n",
    "df_target_Y2.show(1)\n",
    "\n",
    "# Read in Year 3 Target Variables\n",
    "df_target_Y3 = load_csv_file('DaysInHospital_Y3.csv').cache()\n",
    "# Check the data\n",
    "print \"Schema for target_Y3 DataFrame with %d rows:\" %(df_target_Y3.count())\n",
    "df_target_Y3.printSchema()\n",
    "df_target_Y3.show(1)\n",
    "\n",
    "# Read in Year 4 Target Variables\n",
    "df_target_Y4 = load_csv_file('Target.csv').cache()\n",
    "# Check the data\n",
    "print \"Schema for target_Y4 DataFrame with %d rows:\" %(df_target_Y4.count())\n",
    "df_target_Y4.printSchema()\n",
    "df_target_Y4.show(1)\n",
    "\n",
    "# Read in Claims Data\n",
    "#df_claims = load_csv_files().cache()\n",
    "df_claims = load_csv_file('claims.csv').cache()\n",
    "# Check the data\n",
    "print \"Schema for claims DataFrame with %d rows:\" %(df_claims.count())\n",
    "df_claims.printSchema()\n",
    "df_claims.show(1)\n",
    "\n",
    "# Read in Drug Data\n",
    "df_drug_count = load_csv_file('DrugCount.csv').cache()\n",
    "# Check the data\n",
    "print \"Schema for drug_count DataFrame with %d rows:\" %(df_drug_count.count())\n",
    "df_drug_count.printSchema()\n",
    "df_drug_count.show(1)\n",
    "\n",
    "# Read in Lab Data\n",
    "df_lab_count = load_csv_file('LabCount.csv').cache()\n",
    "# Check the data\n",
    "print \"Schema for lab_count DataFrame with %d rows:\" %(df_lab_count.count())\n",
    "df_lab_count.printSchema()\n",
    "df_lab_count.show(1)\n",
    "\n",
    "# Read in Members Data\n",
    "df_members = load_csv_file('Members.csv').cache()\n",
    "# Check the data\n",
    "print \"Schema for members DataFrame with %d rows:\" %(df_members.count())\n",
    "df_members.printSchema()\n",
    "df_members.show(1)"
   ]
  },
  {
   "cell_type": "code",
   "execution_count": 55,
   "metadata": {
    "collapsed": false
   },
   "outputs": [],
   "source": [
    "# Method 1: SQL queries on temporary tables\n",
    "# In order to run SQL queries on DataFrames, we must first register them as temporary tables\n",
    "\n",
    "# df_target_Y2.registerTempTable(\"target_Y2_tt\")\n",
    "# df_target_Y3.registerTempTable(\"target_Y3_tt\")\n",
    "# df_target_Y4.registerTempTable(\"target_Y4_tt\")\n",
    "df_claims.registerTempTable(\"claims_tt\")\n",
    "# df_drug_count.registerTempTable(\"drug_count_tt\")\n",
    "# df_lab_count.registerTempTable(\"lab_count_tt\")\n",
    "# df_members.registerTempTable(\"members_tt\")"
   ]
  },
  {
   "cell_type": "code",
   "execution_count": 56,
   "metadata": {
    "collapsed": false
   },
   "outputs": [
    {
     "name": "stdout",
     "output_type": "stream",
     "text": [
      "Number of samples in the Claims Data where the LengthOfStay is suppressed:\n",
      "+----+\n",
      "| _c0|\n",
      "+----+\n",
      "|1053|\n",
      "+----+\n",
      "\n",
      "Possible Values for PrimaryConditionGroup:\n",
      "+---------------------+\n",
      "|PrimaryConditionGroup|\n",
      "+---------------------+\n",
      "|                  NaN|\n",
      "|              NEUMENT|\n",
      "|               RESPR4|\n",
      "|               INFEC4|\n",
      "|               SEPSIS|\n",
      "|               STROKE|\n",
      "|              PERVALV|\n",
      "|               CANCRA|\n",
      "|               CANCRB|\n",
      "|              LIVERDZ|\n",
      "|              SEIZURE|\n",
      "|               CANCRM|\n",
      "|               PRGNCY|\n",
      "|               SKNAUT|\n",
      "|               HEART2|\n",
      "|               HEART4|\n",
      "|                  CHF|\n",
      "|               RENAL1|\n",
      "|               RENAL2|\n",
      "|               RENAL3|\n",
      "|                ROAMI|\n",
      "|               MISCL1|\n",
      "|               MISCL5|\n",
      "|             ARTHSPIN|\n",
      "|               PNCRDZ|\n",
      "|              PERINTL|\n",
      "|                  AMI|\n",
      "|              APPCHOL|\n",
      "|               CATAST|\n",
      "|               TRAUMA|\n",
      "|                HIPFX|\n",
      "|                PNEUM|\n",
      "|                  UTI|\n",
      "|               MSC2a3|\n",
      "|               HEMTOL|\n",
      "|               METAB1|\n",
      "|               METAB3|\n",
      "|                 COPD|\n",
      "|             GIOBSENT|\n",
      "|              GIBLEED|\n",
      "|              FLaELEC|\n",
      "|               GYNEC1|\n",
      "|              FXDISLC|\n",
      "|              ODaBNCA|\n",
      "|              MISCHRT|\n",
      "|               GYNECA|\n",
      "+---------------------+\n",
      "\n"
     ]
    }
   ],
   "source": [
    "# Then we can run some queries on the tt tables\n",
    "# Example: Count the number of samples in the Claims Data where the LengthOfStay is suppressed\n",
    "df_sup_los_1 = sql_context.sql(\"SELECT COUNT(MemberID) FROM claims_tt WHERE SupLOS = 1\")\n",
    "print 'Number of samples in the Claims Data where the LengthOfStay is suppressed:'\n",
    "df_sup_los_1.show(1)\n",
    "df_sup_los_1.unpersist()\n",
    "# Example:  Get all possible values of the variable PrimaryConditionGroup\n",
    "df_pcg = sql_context.sql(\"SELECT DISTINCT(PrimaryConditionGroup) FROM claims_tt\")\n",
    "print 'Possible Values for PrimaryConditionGroup:'\n",
    "df_pcg.show(df_pcg.count())\n",
    "\n",
    "# Free up memory\n",
    "sql_context.dropTempTable(\"claims_tt\")"
   ]
  },
  {
   "cell_type": "code",
   "execution_count": 57,
   "metadata": {
    "collapsed": false
   },
   "outputs": [
    {
     "name": "stdout",
     "output_type": "stream",
     "text": [
      "['MemberID', 'ProviderID', 'Vendor', 'PCP', 'Year', 'Specialty', 'PlaceSvc', 'PayDelay', 'LengthOfStay', 'DSFS', 'PrimaryConditionGroup', 'CharlsonIndex', 'ProcedureGroup', 'SupLOS']\n",
      "+----+-----+\n",
      "|Year|count|\n",
      "+----+-----+\n",
      "|  Y1|77773|\n",
      "|  Y2|81629|\n",
      "|  Y3|81657|\n",
      "+----+-----+\n",
      "\n",
      "+--------------------+-----+\n",
      "|           Specialty|count|\n",
      "+--------------------+-----+\n",
      "|                 NaN|  741|\n",
      "|Obstetrics and Gy...| 3266|\n",
      "|               Other| 8467|\n",
      "|  Diagnostic Imaging|18761|\n",
      "|          Pediatrics| 7762|\n",
      "|      Rehabilitation| 5125|\n",
      "|            Internal|61093|\n",
      "|           Emergency|11344|\n",
      "|             Surgery|18745|\n",
      "|          Laboratory|58998|\n",
      "|      Anesthesiology| 2929|\n",
      "|    General Practice|42489|\n",
      "|           Pathology| 1339|\n",
      "+--------------------+-----+\n",
      "\n",
      "+-------------------+------+\n",
      "|           PlaceSvc| count|\n",
      "+-------------------+------+\n",
      "|                NaN|   660|\n",
      "|        Urgent Care| 17913|\n",
      "|              Other|  1088|\n",
      "|    Independent Lab| 59380|\n",
      "|          Ambulance|  3096|\n",
      "|Outpatient Hospital| 11041|\n",
      "| Inpatient Hospital|  7738|\n",
      "|             Office|139342|\n",
      "|               Home|   801|\n",
      "+-------------------+------+\n",
      "\n",
      "+------------+------+\n",
      "|LengthOfStay| count|\n",
      "+------------+------+\n",
      "|         NaN|234557|\n",
      "|      5 days|    51|\n",
      "|  1- 2 weeks|   101|\n",
      "|      4 days|   134|\n",
      "|  2- 4 weeks|    79|\n",
      "|  4- 8 weeks|    87|\n",
      "|      3 days|   303|\n",
      "|      2 days|   593|\n",
      "|      6 days|    13|\n",
      "|       1 day|  5141|\n",
      "+------------+------+\n",
      "\n",
      "+------------+-----+\n",
      "|        DSFS|count|\n",
      "+------------+-----+\n",
      "|         NaN| 4743|\n",
      "| 8- 9 months|15540|\n",
      "|10-11 months|10443|\n",
      "| 7- 8 months|15726|\n",
      "| 6- 7 months|16340|\n",
      "|  0- 1 month|64011|\n",
      "| 5- 6 months|17251|\n",
      "| 4- 5 months|17186|\n",
      "| 9-10 months|13718|\n",
      "| 3- 4 months|19152|\n",
      "| 2- 3 months|20300|\n",
      "| 1- 2 months|22376|\n",
      "|11-12 months| 4273|\n",
      "+------------+-----+\n",
      "\n",
      "+---------------------+-----+\n",
      "|PrimaryConditionGroup|count|\n",
      "+---------------------+-----+\n",
      "|                  NaN| 1020|\n",
      "|              NEUMENT|15531|\n",
      "|               RESPR4|12455|\n",
      "|               INFEC4| 7524|\n",
      "|               SEPSIS|   42|\n",
      "|               STROKE|  747|\n",
      "|              PERVALV|  311|\n",
      "|               CANCRA|  499|\n",
      "|               CANCRB| 3882|\n",
      "|              LIVERDZ|  276|\n",
      "|              SEIZURE| 1883|\n",
      "|               CANCRM|  101|\n",
      "|               PRGNCY| 2900|\n",
      "|               SKNAUT| 9664|\n",
      "|               HEART2| 4841|\n",
      "|               HEART4| 2515|\n",
      "|                  CHF| 1175|\n",
      "|               RENAL1|   53|\n",
      "|               RENAL2|  989|\n",
      "|               RENAL3| 4762|\n",
      "+---------------------+-----+\n",
      "only showing top 20 rows\n",
      "\n",
      "+-------------+------+\n",
      "|CharlsonIndex| count|\n",
      "+-------------+------+\n",
      "|           5+|   573|\n",
      "|          3-4|  4522|\n",
      "|            0|122131|\n",
      "|          1-2|113833|\n",
      "+-------------+------+\n",
      "\n",
      "+--------------+-----+\n",
      "|ProcedureGroup|count|\n",
      "+--------------+-----+\n",
      "|           NaN|  350|\n",
      "|           SGS|  884|\n",
      "|           SAS|  523|\n",
      "|           SNS|  734|\n",
      "|           SUS|  466|\n",
      "|           RAD|24111|\n",
      "|           SIS| 5073|\n",
      "|           SCS|24827|\n",
      "|          ANES| 1499|\n",
      "|          SMCD|  283|\n",
      "|            PL|44500|\n",
      "|           SDS| 5524|\n",
      "|            EM|94484|\n",
      "|           SRS|  728|\n",
      "|           MED|33726|\n",
      "|          SEOA|  755|\n",
      "|            SO|   31|\n",
      "|           SMS| 2561|\n",
      "+--------------+-----+\n",
      "\n",
      "+------+------+\n",
      "|SupLOS| count|\n",
      "+------+------+\n",
      "|     0|240006|\n",
      "|     1|  1053|\n",
      "+------+------+\n",
      "\n"
     ]
    }
   ],
   "source": [
    "# Method 2: Direct queries of DataFrames\n",
    "# DataFrame Operations:  https://spark.apache.org/docs/latest/api/python/pyspark.sql.html#pyspark.sql.DataFrame\n",
    "\n",
    "# Example: Get counts of values in each column of Claims data\n",
    "print df_claims.columns\n",
    "columns_for_analysis = ['Year', 'Specialty', 'PlaceSvc', 'LengthOfStay', 'DSFS', \n",
    "                        'PrimaryConditionGroup', 'CharlsonIndex', 'ProcedureGroup', 'SupLOS']\n",
    "for column in columns_for_analysis:\n",
    "    df_claims.groupBy(column).count().show()"
   ]
  },
  {
   "cell_type": "raw",
   "metadata": {},
   "source": [
    "Complete Section 3.B: EDA-0. Gather information to see what transformations may need to be done on the data. Answer questions about each raw DataFrame. In general, is the data in good shape? For example, in each of the Target DataFrames (df_target_Y1, df_target_Y2, df_target_Y3), what values does DaysInHospital take on? Are they all integers? What values does ClaimsTruncated take on? Are they all integers? In the Claims DataFrame (df_claims), how many different ProviderIDs are there? How many different PrimaryConditionGroups are there? What are their values? What values can the CharlesonIndex take on? Are they integers? In the Drug Count DataFrame (df_drug_count), what values can DrugCount take on? Are they all integers? Given this information, what transformations are needed?"
   ]
  },
  {
   "cell_type": "code",
   "execution_count": 58,
   "metadata": {
    "collapsed": false
   },
   "outputs": [
    {
     "name": "stdout",
     "output_type": "stream",
     "text": [
      "['MemberID', 'ProviderID', 'Vendor', 'PCP', 'Year', 'Specialty', 'PlaceSvc', 'PayDelay', 'LengthOfStay', 'DSFS', 'PrimaryConditionGroup', 'CharlsonIndex', 'ProcedureGroup', 'SupLOS']\n",
      "+----+-----+\n",
      "|Year|count|\n",
      "+----+-----+\n",
      "|  Y1|77773|\n",
      "|  Y2|81629|\n",
      "|  Y3|81657|\n",
      "+----+-----+\n",
      "\n",
      "+--------------------+-----+\n",
      "|           Specialty|count|\n",
      "+--------------------+-----+\n",
      "|                 NaN|  741|\n",
      "|Obstetrics and Gy...| 3266|\n",
      "|               Other| 8467|\n",
      "|  Diagnostic Imaging|18761|\n",
      "|          Pediatrics| 7762|\n",
      "|      Rehabilitation| 5125|\n",
      "|            Internal|61093|\n",
      "|           Emergency|11344|\n",
      "|             Surgery|18745|\n",
      "|          Laboratory|58998|\n",
      "|      Anesthesiology| 2929|\n",
      "|    General Practice|42489|\n",
      "|           Pathology| 1339|\n",
      "+--------------------+-----+\n",
      "\n",
      "+-------------------+------+\n",
      "|           PlaceSvc| count|\n",
      "+-------------------+------+\n",
      "|                NaN|   660|\n",
      "|        Urgent Care| 17913|\n",
      "|              Other|  1088|\n",
      "|    Independent Lab| 59380|\n",
      "|          Ambulance|  3096|\n",
      "|Outpatient Hospital| 11041|\n",
      "| Inpatient Hospital|  7738|\n",
      "|             Office|139342|\n",
      "|               Home|   801|\n",
      "+-------------------+------+\n",
      "\n",
      "+------------+-----+\n",
      "|        DSFS|count|\n",
      "+------------+-----+\n",
      "|         NaN| 4743|\n",
      "| 8- 9 months|15540|\n",
      "|10-11 months|10443|\n",
      "| 7- 8 months|15726|\n",
      "| 6- 7 months|16340|\n",
      "|  0- 1 month|64011|\n",
      "| 5- 6 months|17251|\n",
      "| 4- 5 months|17186|\n",
      "| 9-10 months|13718|\n",
      "| 3- 4 months|19152|\n",
      "| 2- 3 months|20300|\n",
      "| 1- 2 months|22376|\n",
      "|11-12 months| 4273|\n",
      "+------------+-----+\n",
      "\n",
      "+---------------------+-----+\n",
      "|PrimaryConditionGroup|count|\n",
      "+---------------------+-----+\n",
      "|                  NaN| 1020|\n",
      "|              NEUMENT|15531|\n",
      "|               RESPR4|12455|\n",
      "|               INFEC4| 7524|\n",
      "|               SEPSIS|   42|\n",
      "|               STROKE|  747|\n",
      "|              PERVALV|  311|\n",
      "|               CANCRA|  499|\n",
      "|               CANCRB| 3882|\n",
      "|              LIVERDZ|  276|\n",
      "|              SEIZURE| 1883|\n",
      "|               CANCRM|  101|\n",
      "|               PRGNCY| 2900|\n",
      "|               SKNAUT| 9664|\n",
      "|               HEART2| 4841|\n",
      "|               HEART4| 2515|\n",
      "|                  CHF| 1175|\n",
      "|               RENAL1|   53|\n",
      "|               RENAL2|  989|\n",
      "|               RENAL3| 4762|\n",
      "+---------------------+-----+\n",
      "only showing top 20 rows\n",
      "\n",
      "+-------------+------+\n",
      "|CharlsonIndex| count|\n",
      "+-------------+------+\n",
      "|           5+|   573|\n",
      "|          3-4|  4522|\n",
      "|            0|122131|\n",
      "|          1-2|113833|\n",
      "+-------------+------+\n",
      "\n",
      "+--------------+-----+\n",
      "|ProcedureGroup|count|\n",
      "+--------------+-----+\n",
      "|           NaN|  350|\n",
      "|           SGS|  884|\n",
      "|           SAS|  523|\n",
      "|           SNS|  734|\n",
      "|           SUS|  466|\n",
      "|           RAD|24111|\n",
      "|           SIS| 5073|\n",
      "|           SCS|24827|\n",
      "|          ANES| 1499|\n",
      "|          SMCD|  283|\n",
      "|            PL|44500|\n",
      "|           SDS| 5524|\n",
      "|            EM|94484|\n",
      "|           SRS|  728|\n",
      "|           MED|33726|\n",
      "|          SEOA|  755|\n",
      "|            SO|   31|\n",
      "|           SMS| 2561|\n",
      "+--------------+-----+\n",
      "\n",
      "+------+------+\n",
      "|SupLOS| count|\n",
      "+------+------+\n",
      "|     0|240006|\n",
      "|     1|  1053|\n",
      "+------+------+\n",
      "\n"
     ]
    }
   ],
   "source": [
    "#df_claims = df_claims.drop('LengthOfStay')\n",
    "df_claims.dropna(subset=['Specialty'])\n",
    "\n",
    "print df_claims.columns\n",
    "columns_for_analysis = ['Year', 'Specialty', 'PlaceSvc', 'DSFS', \n",
    "                        'PrimaryConditionGroup', 'CharlsonIndex', 'ProcedureGroup', 'SupLOS']\n",
    "for column in columns_for_analysis:\n",
    "    df_claims.groupBy(column).count().show()"
   ]
  },
  {
   "cell_type": "code",
   "execution_count": null,
   "metadata": {
    "collapsed": true
   },
   "outputs": [],
   "source": []
  },
  {
   "cell_type": "code",
   "execution_count": null,
   "metadata": {
    "collapsed": true
   },
   "outputs": [],
   "source": []
  },
  {
   "cell_type": "code",
   "execution_count": null,
   "metadata": {
    "collapsed": true
   },
   "outputs": [],
   "source": []
  },
  {
   "cell_type": "code",
   "execution_count": null,
   "metadata": {
    "collapsed": true
   },
   "outputs": [],
   "source": []
  }
 ],
 "metadata": {
  "anaconda-cloud": {},
  "kernelspec": {
   "display_name": "Python [py27]",
   "language": "python",
   "name": "Python [py27]"
  },
  "language_info": {
   "codemirror_mode": {
    "name": "ipython",
    "version": 2
   },
   "file_extension": ".py",
   "mimetype": "text/x-python",
   "name": "python",
   "nbconvert_exporter": "python",
   "pygments_lexer": "ipython2",
   "version": "2.7.12"
  }
 },
 "nbformat": 4,
 "nbformat_minor": 0
}
